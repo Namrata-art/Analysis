{
  "nbformat": 4,
  "nbformat_minor": 0,
  "metadata": {
    "colab": {
      "provenance": [],
      "include_colab_link": true
    },
    "kernelspec": {
      "name": "python3",
      "display_name": "Python 3"
    },
    "language_info": {
      "name": "python"
    }
  },
  "cells": [
    {
      "cell_type": "markdown",
      "metadata": {
        "id": "view-in-github",
        "colab_type": "text"
      },
      "source": [
        "<a href=\"https://colab.research.google.com/github/Namrata-art/Analysis/blob/main/Yulu.ipynb\" target=\"_parent\"><img src=\"https://colab.research.google.com/assets/colab-badge.svg\" alt=\"Open In Colab\"/></a>"
      ]
    },
    {
      "cell_type": "markdown",
      "source": [
        "**About Yulu:**\n",
        "\n",
        "*Yulu is India’s leading micro-mobility service provider, which offers unique vehicles for the daily commute.*\n",
        "\n",
        "**Business Problem:**\n",
        "\n",
        "*The company wants to know:*\n",
        "\n",
        "*• Which variables are significant in predicting the demand for shared electric cycles in the Indian market?*\n",
        "\n",
        "*• How well those variables describe the electric cycle demands*\n",
        "\n",
        "*The dataset includes features like:*\n",
        "\n",
        "||Features|\n",
        "|-|-|\n",
        "|1|Datetime|\n",
        "|2|Season|\n",
        "|3|Holiday|\n",
        "|4|Work day|\n",
        "|5|Weather|\n",
        "|6|Temp|\n",
        "|7|Atemp|\n",
        "|8|Humidity|\n",
        "|9|Windspeed|\n",
        "|10|Casual|\n",
        "|11|Registered|\n",
        "|12|Count|\n",
        "\n",
        "\n",
        "---\n",
        "**Feature Profiling:**\n",
        "\n",
        "**datetime:** *datetime*\n",
        "\n",
        "**season:** *season (1: spring, 2: summer, 3: fall, 4: winter)*\n",
        "\n",
        "**holiday:** *whether day is a holiday or not (extracted from http://dchr.dc.gov/page/holiday-schedule)*\n",
        "\n",
        "**workingday:** *if day is neither weekend nor holiday is 1, otherwise is 0.*\n",
        "\n",
        "**weather:**\n",
        "\n",
        "*1:* *Clear, Few clouds, partly cloudy, partly cloudy*\n",
        "\n",
        "*2:* *Mist + Cloudy, Mist + Broken clouds, Mist + Few clouds, Mist*\n",
        "\n",
        "*3:* *Light Snow, Light Rain + Thunderstorm + Scattered clouds, Light Rain + Scattered clouds*\n",
        "\n",
        "*4:* *Heavy Rain + Ice Pallets + Thunderstorm + Mist, Snow + Fog*\n",
        "\n",
        "**temp:** temperature in Celsius\n",
        "\n",
        "**atemp:** *feeling temperature in Celsius*\n",
        "\n",
        "**humidity:** *humidity*\n",
        "\n",
        "**windspeed:** *wind speed*\n",
        "\n",
        "**casual:** *count of casual users*\n",
        "\n",
        "**registered:** *count of registered users*\n",
        "\n",
        "**count:** *count of total rental bikes including both casual and registered*\n",
        "\n",
        "---\n",
        "\n"
      ],
      "metadata": {
        "id": "Tlv8LvfmIvMa"
      }
    },
    {
      "cell_type": "code",
      "execution_count": null,
      "metadata": {
        "colab": {
          "base_uri": "https://localhost:8080/",
          "height": 206
        },
        "id": "b_X56PW3lgKJ",
        "outputId": "3173db3d-4d0c-4328-83f1-6f22732461e4"
      },
      "outputs": [
        {
          "output_type": "execute_result",
          "data": {
            "text/plain": [
              "              datetime  season  holiday  workingday  weather  temp   atemp  \\\n",
              "0  2011-01-01 00:00:00       1        0           0        1  9.84  14.395   \n",
              "1  2011-01-01 01:00:00       1        0           0        1  9.02  13.635   \n",
              "2  2011-01-01 02:00:00       1        0           0        1  9.02  13.635   \n",
              "3  2011-01-01 03:00:00       1        0           0        1  9.84  14.395   \n",
              "4  2011-01-01 04:00:00       1        0           0        1  9.84  14.395   \n",
              "\n",
              "   humidity  windspeed  casual  registered  count  \n",
              "0        81        0.0       3          13     16  \n",
              "1        80        0.0       8          32     40  \n",
              "2        80        0.0       5          27     32  \n",
              "3        75        0.0       3          10     13  \n",
              "4        75        0.0       0           1      1  "
            ],
            "text/html": [
              "\n",
              "  <div id=\"df-25b197d0-2232-4c88-b125-040da1cbc7b9\">\n",
              "    <div class=\"colab-df-container\">\n",
              "      <div>\n",
              "<style scoped>\n",
              "    .dataframe tbody tr th:only-of-type {\n",
              "        vertical-align: middle;\n",
              "    }\n",
              "\n",
              "    .dataframe tbody tr th {\n",
              "        vertical-align: top;\n",
              "    }\n",
              "\n",
              "    .dataframe thead th {\n",
              "        text-align: right;\n",
              "    }\n",
              "</style>\n",
              "<table border=\"1\" class=\"dataframe\">\n",
              "  <thead>\n",
              "    <tr style=\"text-align: right;\">\n",
              "      <th></th>\n",
              "      <th>datetime</th>\n",
              "      <th>season</th>\n",
              "      <th>holiday</th>\n",
              "      <th>workingday</th>\n",
              "      <th>weather</th>\n",
              "      <th>temp</th>\n",
              "      <th>atemp</th>\n",
              "      <th>humidity</th>\n",
              "      <th>windspeed</th>\n",
              "      <th>casual</th>\n",
              "      <th>registered</th>\n",
              "      <th>count</th>\n",
              "    </tr>\n",
              "  </thead>\n",
              "  <tbody>\n",
              "    <tr>\n",
              "      <th>0</th>\n",
              "      <td>2011-01-01 00:00:00</td>\n",
              "      <td>1</td>\n",
              "      <td>0</td>\n",
              "      <td>0</td>\n",
              "      <td>1</td>\n",
              "      <td>9.84</td>\n",
              "      <td>14.395</td>\n",
              "      <td>81</td>\n",
              "      <td>0.0</td>\n",
              "      <td>3</td>\n",
              "      <td>13</td>\n",
              "      <td>16</td>\n",
              "    </tr>\n",
              "    <tr>\n",
              "      <th>1</th>\n",
              "      <td>2011-01-01 01:00:00</td>\n",
              "      <td>1</td>\n",
              "      <td>0</td>\n",
              "      <td>0</td>\n",
              "      <td>1</td>\n",
              "      <td>9.02</td>\n",
              "      <td>13.635</td>\n",
              "      <td>80</td>\n",
              "      <td>0.0</td>\n",
              "      <td>8</td>\n",
              "      <td>32</td>\n",
              "      <td>40</td>\n",
              "    </tr>\n",
              "    <tr>\n",
              "      <th>2</th>\n",
              "      <td>2011-01-01 02:00:00</td>\n",
              "      <td>1</td>\n",
              "      <td>0</td>\n",
              "      <td>0</td>\n",
              "      <td>1</td>\n",
              "      <td>9.02</td>\n",
              "      <td>13.635</td>\n",
              "      <td>80</td>\n",
              "      <td>0.0</td>\n",
              "      <td>5</td>\n",
              "      <td>27</td>\n",
              "      <td>32</td>\n",
              "    </tr>\n",
              "    <tr>\n",
              "      <th>3</th>\n",
              "      <td>2011-01-01 03:00:00</td>\n",
              "      <td>1</td>\n",
              "      <td>0</td>\n",
              "      <td>0</td>\n",
              "      <td>1</td>\n",
              "      <td>9.84</td>\n",
              "      <td>14.395</td>\n",
              "      <td>75</td>\n",
              "      <td>0.0</td>\n",
              "      <td>3</td>\n",
              "      <td>10</td>\n",
              "      <td>13</td>\n",
              "    </tr>\n",
              "    <tr>\n",
              "      <th>4</th>\n",
              "      <td>2011-01-01 04:00:00</td>\n",
              "      <td>1</td>\n",
              "      <td>0</td>\n",
              "      <td>0</td>\n",
              "      <td>1</td>\n",
              "      <td>9.84</td>\n",
              "      <td>14.395</td>\n",
              "      <td>75</td>\n",
              "      <td>0.0</td>\n",
              "      <td>0</td>\n",
              "      <td>1</td>\n",
              "      <td>1</td>\n",
              "    </tr>\n",
              "  </tbody>\n",
              "</table>\n",
              "</div>\n",
              "      <button class=\"colab-df-convert\" onclick=\"convertToInteractive('df-25b197d0-2232-4c88-b125-040da1cbc7b9')\"\n",
              "              title=\"Convert this dataframe to an interactive table.\"\n",
              "              style=\"display:none;\">\n",
              "        \n",
              "  <svg xmlns=\"http://www.w3.org/2000/svg\" height=\"24px\"viewBox=\"0 0 24 24\"\n",
              "       width=\"24px\">\n",
              "    <path d=\"M0 0h24v24H0V0z\" fill=\"none\"/>\n",
              "    <path d=\"M18.56 5.44l.94 2.06.94-2.06 2.06-.94-2.06-.94-.94-2.06-.94 2.06-2.06.94zm-11 1L8.5 8.5l.94-2.06 2.06-.94-2.06-.94L8.5 2.5l-.94 2.06-2.06.94zm10 10l.94 2.06.94-2.06 2.06-.94-2.06-.94-.94-2.06-.94 2.06-2.06.94z\"/><path d=\"M17.41 7.96l-1.37-1.37c-.4-.4-.92-.59-1.43-.59-.52 0-1.04.2-1.43.59L10.3 9.45l-7.72 7.72c-.78.78-.78 2.05 0 2.83L4 21.41c.39.39.9.59 1.41.59.51 0 1.02-.2 1.41-.59l7.78-7.78 2.81-2.81c.8-.78.8-2.07 0-2.86zM5.41 20L4 18.59l7.72-7.72 1.47 1.35L5.41 20z\"/>\n",
              "  </svg>\n",
              "      </button>\n",
              "      \n",
              "  <style>\n",
              "    .colab-df-container {\n",
              "      display:flex;\n",
              "      flex-wrap:wrap;\n",
              "      gap: 12px;\n",
              "    }\n",
              "\n",
              "    .colab-df-convert {\n",
              "      background-color: #E8F0FE;\n",
              "      border: none;\n",
              "      border-radius: 50%;\n",
              "      cursor: pointer;\n",
              "      display: none;\n",
              "      fill: #1967D2;\n",
              "      height: 32px;\n",
              "      padding: 0 0 0 0;\n",
              "      width: 32px;\n",
              "    }\n",
              "\n",
              "    .colab-df-convert:hover {\n",
              "      background-color: #E2EBFA;\n",
              "      box-shadow: 0px 1px 2px rgba(60, 64, 67, 0.3), 0px 1px 3px 1px rgba(60, 64, 67, 0.15);\n",
              "      fill: #174EA6;\n",
              "    }\n",
              "\n",
              "    [theme=dark] .colab-df-convert {\n",
              "      background-color: #3B4455;\n",
              "      fill: #D2E3FC;\n",
              "    }\n",
              "\n",
              "    [theme=dark] .colab-df-convert:hover {\n",
              "      background-color: #434B5C;\n",
              "      box-shadow: 0px 1px 3px 1px rgba(0, 0, 0, 0.15);\n",
              "      filter: drop-shadow(0px 1px 2px rgba(0, 0, 0, 0.3));\n",
              "      fill: #FFFFFF;\n",
              "    }\n",
              "  </style>\n",
              "\n",
              "      <script>\n",
              "        const buttonEl =\n",
              "          document.querySelector('#df-25b197d0-2232-4c88-b125-040da1cbc7b9 button.colab-df-convert');\n",
              "        buttonEl.style.display =\n",
              "          google.colab.kernel.accessAllowed ? 'block' : 'none';\n",
              "\n",
              "        async function convertToInteractive(key) {\n",
              "          const element = document.querySelector('#df-25b197d0-2232-4c88-b125-040da1cbc7b9');\n",
              "          const dataTable =\n",
              "            await google.colab.kernel.invokeFunction('convertToInteractive',\n",
              "                                                     [key], {});\n",
              "          if (!dataTable) return;\n",
              "\n",
              "          const docLinkHtml = 'Like what you see? Visit the ' +\n",
              "            '<a target=\"_blank\" href=https://colab.research.google.com/notebooks/data_table.ipynb>data table notebook</a>'\n",
              "            + ' to learn more about interactive tables.';\n",
              "          element.innerHTML = '';\n",
              "          dataTable['output_type'] = 'display_data';\n",
              "          await google.colab.output.renderOutput(dataTable, element);\n",
              "          const docLink = document.createElement('div');\n",
              "          docLink.innerHTML = docLinkHtml;\n",
              "          element.appendChild(docLink);\n",
              "        }\n",
              "      </script>\n",
              "    </div>\n",
              "  </div>\n",
              "  "
            ]
          },
          "metadata": {},
          "execution_count": 127
        }
      ],
      "source": [
        "import pandas as pd\n",
        "import matplotlib.pyplot as plt\n",
        "import seaborn as sns\n",
        "import numpy as np\n",
        "from scipy import stats\n",
        "import statsmodels.api as sm\n",
        "import datetime as dt\n",
        "import warnings\n",
        "warnings.filterwarnings('ignore') \n",
        "\n",
        "\n",
        "df = pd.read_csv('https://d2beiqkhq929f0.cloudfront.net/public_assets/assets/000/001/428/original/bike_sharing.csv?1642089089')\n",
        "df.head()"
      ]
    },
    {
      "cell_type": "code",
      "source": [
        "df.info()"
      ],
      "metadata": {
        "colab": {
          "base_uri": "https://localhost:8080/"
        },
        "id": "cwjftf1c4Oha",
        "outputId": "bca3b492-db26-4702-a3fe-451cb3d8b916"
      },
      "execution_count": null,
      "outputs": [
        {
          "output_type": "stream",
          "name": "stdout",
          "text": [
            "<class 'pandas.core.frame.DataFrame'>\n",
            "RangeIndex: 10886 entries, 0 to 10885\n",
            "Data columns (total 12 columns):\n",
            " #   Column      Non-Null Count  Dtype  \n",
            "---  ------      --------------  -----  \n",
            " 0   datetime    10886 non-null  object \n",
            " 1   season      10886 non-null  int64  \n",
            " 2   holiday     10886 non-null  int64  \n",
            " 3   workingday  10886 non-null  int64  \n",
            " 4   weather     10886 non-null  int64  \n",
            " 5   temp        10886 non-null  float64\n",
            " 6   atemp       10886 non-null  float64\n",
            " 7   humidity    10886 non-null  int64  \n",
            " 8   windspeed   10886 non-null  float64\n",
            " 9   casual      10886 non-null  int64  \n",
            " 10  registered  10886 non-null  int64  \n",
            " 11  count       10886 non-null  int64  \n",
            "dtypes: float64(3), int64(8), object(1)\n",
            "memory usage: 1020.7+ KB\n"
          ]
        }
      ]
    },
    {
      "cell_type": "markdown",
      "source": [
        "**Total number of records are :** `10886`\n",
        "\n",
        "**Unique datatypes available in the dataset are:**\n",
        "\n",
        "`Object, int and float types, but majority being int type.`"
      ],
      "metadata": {
        "id": "2xT9UsFYReGk"
      }
    },
    {
      "cell_type": "code",
      "source": [
        "df.isnull().sum()"
      ],
      "metadata": {
        "colab": {
          "base_uri": "https://localhost:8080/"
        },
        "id": "sLCQEc2nmcc1",
        "outputId": "9c528c75-ed29-48e7-a01c-45e12103385c"
      },
      "execution_count": null,
      "outputs": [
        {
          "output_type": "execute_result",
          "data": {
            "text/plain": [
              "datetime      0\n",
              "season        0\n",
              "holiday       0\n",
              "workingday    0\n",
              "weather       0\n",
              "temp          0\n",
              "atemp         0\n",
              "humidity      0\n",
              "windspeed     0\n",
              "casual        0\n",
              "registered    0\n",
              "count         0\n",
              "dtype: int64"
            ]
          },
          "metadata": {},
          "execution_count": 63
        }
      ]
    },
    {
      "cell_type": "markdown",
      "source": [
        "**Missing values:**\n",
        "\n",
        "`There appears to be no missing values in any of the features provided in the dataset.`"
      ],
      "metadata": {
        "id": "BOh-1I66RtLW"
      }
    },
    {
      "cell_type": "code",
      "source": [
        "df.describe()"
      ],
      "metadata": {
        "colab": {
          "base_uri": "https://localhost:8080/",
          "height": 364
        },
        "id": "VezrRDC3l1o-",
        "outputId": "2d39c822-5bc0-4793-fd3b-ad22faa8b226"
      },
      "execution_count": null,
      "outputs": [
        {
          "output_type": "execute_result",
          "data": {
            "text/plain": [
              "             season       holiday    workingday       weather         temp  \\\n",
              "count  10886.000000  10886.000000  10886.000000  10886.000000  10886.00000   \n",
              "mean       2.506614      0.028569      0.680875      1.418427     20.23086   \n",
              "std        1.116174      0.166599      0.466159      0.633839      7.79159   \n",
              "min        1.000000      0.000000      0.000000      1.000000      0.82000   \n",
              "25%        2.000000      0.000000      0.000000      1.000000     13.94000   \n",
              "50%        3.000000      0.000000      1.000000      1.000000     20.50000   \n",
              "75%        4.000000      0.000000      1.000000      2.000000     26.24000   \n",
              "max        4.000000      1.000000      1.000000      4.000000     41.00000   \n",
              "\n",
              "              atemp      humidity     windspeed        casual    registered  \\\n",
              "count  10886.000000  10886.000000  10886.000000  10886.000000  10886.000000   \n",
              "mean      23.655084     61.886460     12.799395     36.021955    155.552177   \n",
              "std        8.474601     19.245033      8.164537     49.960477    151.039033   \n",
              "min        0.760000      0.000000      0.000000      0.000000      0.000000   \n",
              "25%       16.665000     47.000000      7.001500      4.000000     36.000000   \n",
              "50%       24.240000     62.000000     12.998000     17.000000    118.000000   \n",
              "75%       31.060000     77.000000     16.997900     49.000000    222.000000   \n",
              "max       45.455000    100.000000     56.996900    367.000000    886.000000   \n",
              "\n",
              "              count  \n",
              "count  10886.000000  \n",
              "mean     191.574132  \n",
              "std      181.144454  \n",
              "min        1.000000  \n",
              "25%       42.000000  \n",
              "50%      145.000000  \n",
              "75%      284.000000  \n",
              "max      977.000000  "
            ],
            "text/html": [
              "\n",
              "  <div id=\"df-6c937724-ebd1-43f7-ad10-d4358647ceea\">\n",
              "    <div class=\"colab-df-container\">\n",
              "      <div>\n",
              "<style scoped>\n",
              "    .dataframe tbody tr th:only-of-type {\n",
              "        vertical-align: middle;\n",
              "    }\n",
              "\n",
              "    .dataframe tbody tr th {\n",
              "        vertical-align: top;\n",
              "    }\n",
              "\n",
              "    .dataframe thead th {\n",
              "        text-align: right;\n",
              "    }\n",
              "</style>\n",
              "<table border=\"1\" class=\"dataframe\">\n",
              "  <thead>\n",
              "    <tr style=\"text-align: right;\">\n",
              "      <th></th>\n",
              "      <th>season</th>\n",
              "      <th>holiday</th>\n",
              "      <th>workingday</th>\n",
              "      <th>weather</th>\n",
              "      <th>temp</th>\n",
              "      <th>atemp</th>\n",
              "      <th>humidity</th>\n",
              "      <th>windspeed</th>\n",
              "      <th>casual</th>\n",
              "      <th>registered</th>\n",
              "      <th>count</th>\n",
              "    </tr>\n",
              "  </thead>\n",
              "  <tbody>\n",
              "    <tr>\n",
              "      <th>count</th>\n",
              "      <td>10886.000000</td>\n",
              "      <td>10886.000000</td>\n",
              "      <td>10886.000000</td>\n",
              "      <td>10886.000000</td>\n",
              "      <td>10886.00000</td>\n",
              "      <td>10886.000000</td>\n",
              "      <td>10886.000000</td>\n",
              "      <td>10886.000000</td>\n",
              "      <td>10886.000000</td>\n",
              "      <td>10886.000000</td>\n",
              "      <td>10886.000000</td>\n",
              "    </tr>\n",
              "    <tr>\n",
              "      <th>mean</th>\n",
              "      <td>2.506614</td>\n",
              "      <td>0.028569</td>\n",
              "      <td>0.680875</td>\n",
              "      <td>1.418427</td>\n",
              "      <td>20.23086</td>\n",
              "      <td>23.655084</td>\n",
              "      <td>61.886460</td>\n",
              "      <td>12.799395</td>\n",
              "      <td>36.021955</td>\n",
              "      <td>155.552177</td>\n",
              "      <td>191.574132</td>\n",
              "    </tr>\n",
              "    <tr>\n",
              "      <th>std</th>\n",
              "      <td>1.116174</td>\n",
              "      <td>0.166599</td>\n",
              "      <td>0.466159</td>\n",
              "      <td>0.633839</td>\n",
              "      <td>7.79159</td>\n",
              "      <td>8.474601</td>\n",
              "      <td>19.245033</td>\n",
              "      <td>8.164537</td>\n",
              "      <td>49.960477</td>\n",
              "      <td>151.039033</td>\n",
              "      <td>181.144454</td>\n",
              "    </tr>\n",
              "    <tr>\n",
              "      <th>min</th>\n",
              "      <td>1.000000</td>\n",
              "      <td>0.000000</td>\n",
              "      <td>0.000000</td>\n",
              "      <td>1.000000</td>\n",
              "      <td>0.82000</td>\n",
              "      <td>0.760000</td>\n",
              "      <td>0.000000</td>\n",
              "      <td>0.000000</td>\n",
              "      <td>0.000000</td>\n",
              "      <td>0.000000</td>\n",
              "      <td>1.000000</td>\n",
              "    </tr>\n",
              "    <tr>\n",
              "      <th>25%</th>\n",
              "      <td>2.000000</td>\n",
              "      <td>0.000000</td>\n",
              "      <td>0.000000</td>\n",
              "      <td>1.000000</td>\n",
              "      <td>13.94000</td>\n",
              "      <td>16.665000</td>\n",
              "      <td>47.000000</td>\n",
              "      <td>7.001500</td>\n",
              "      <td>4.000000</td>\n",
              "      <td>36.000000</td>\n",
              "      <td>42.000000</td>\n",
              "    </tr>\n",
              "    <tr>\n",
              "      <th>50%</th>\n",
              "      <td>3.000000</td>\n",
              "      <td>0.000000</td>\n",
              "      <td>1.000000</td>\n",
              "      <td>1.000000</td>\n",
              "      <td>20.50000</td>\n",
              "      <td>24.240000</td>\n",
              "      <td>62.000000</td>\n",
              "      <td>12.998000</td>\n",
              "      <td>17.000000</td>\n",
              "      <td>118.000000</td>\n",
              "      <td>145.000000</td>\n",
              "    </tr>\n",
              "    <tr>\n",
              "      <th>75%</th>\n",
              "      <td>4.000000</td>\n",
              "      <td>0.000000</td>\n",
              "      <td>1.000000</td>\n",
              "      <td>2.000000</td>\n",
              "      <td>26.24000</td>\n",
              "      <td>31.060000</td>\n",
              "      <td>77.000000</td>\n",
              "      <td>16.997900</td>\n",
              "      <td>49.000000</td>\n",
              "      <td>222.000000</td>\n",
              "      <td>284.000000</td>\n",
              "    </tr>\n",
              "    <tr>\n",
              "      <th>max</th>\n",
              "      <td>4.000000</td>\n",
              "      <td>1.000000</td>\n",
              "      <td>1.000000</td>\n",
              "      <td>4.000000</td>\n",
              "      <td>41.00000</td>\n",
              "      <td>45.455000</td>\n",
              "      <td>100.000000</td>\n",
              "      <td>56.996900</td>\n",
              "      <td>367.000000</td>\n",
              "      <td>886.000000</td>\n",
              "      <td>977.000000</td>\n",
              "    </tr>\n",
              "  </tbody>\n",
              "</table>\n",
              "</div>\n",
              "      <button class=\"colab-df-convert\" onclick=\"convertToInteractive('df-6c937724-ebd1-43f7-ad10-d4358647ceea')\"\n",
              "              title=\"Convert this dataframe to an interactive table.\"\n",
              "              style=\"display:none;\">\n",
              "        \n",
              "  <svg xmlns=\"http://www.w3.org/2000/svg\" height=\"24px\"viewBox=\"0 0 24 24\"\n",
              "       width=\"24px\">\n",
              "    <path d=\"M0 0h24v24H0V0z\" fill=\"none\"/>\n",
              "    <path d=\"M18.56 5.44l.94 2.06.94-2.06 2.06-.94-2.06-.94-.94-2.06-.94 2.06-2.06.94zm-11 1L8.5 8.5l.94-2.06 2.06-.94-2.06-.94L8.5 2.5l-.94 2.06-2.06.94zm10 10l.94 2.06.94-2.06 2.06-.94-2.06-.94-.94-2.06-.94 2.06-2.06.94z\"/><path d=\"M17.41 7.96l-1.37-1.37c-.4-.4-.92-.59-1.43-.59-.52 0-1.04.2-1.43.59L10.3 9.45l-7.72 7.72c-.78.78-.78 2.05 0 2.83L4 21.41c.39.39.9.59 1.41.59.51 0 1.02-.2 1.41-.59l7.78-7.78 2.81-2.81c.8-.78.8-2.07 0-2.86zM5.41 20L4 18.59l7.72-7.72 1.47 1.35L5.41 20z\"/>\n",
              "  </svg>\n",
              "      </button>\n",
              "      \n",
              "  <style>\n",
              "    .colab-df-container {\n",
              "      display:flex;\n",
              "      flex-wrap:wrap;\n",
              "      gap: 12px;\n",
              "    }\n",
              "\n",
              "    .colab-df-convert {\n",
              "      background-color: #E8F0FE;\n",
              "      border: none;\n",
              "      border-radius: 50%;\n",
              "      cursor: pointer;\n",
              "      display: none;\n",
              "      fill: #1967D2;\n",
              "      height: 32px;\n",
              "      padding: 0 0 0 0;\n",
              "      width: 32px;\n",
              "    }\n",
              "\n",
              "    .colab-df-convert:hover {\n",
              "      background-color: #E2EBFA;\n",
              "      box-shadow: 0px 1px 2px rgba(60, 64, 67, 0.3), 0px 1px 3px 1px rgba(60, 64, 67, 0.15);\n",
              "      fill: #174EA6;\n",
              "    }\n",
              "\n",
              "    [theme=dark] .colab-df-convert {\n",
              "      background-color: #3B4455;\n",
              "      fill: #D2E3FC;\n",
              "    }\n",
              "\n",
              "    [theme=dark] .colab-df-convert:hover {\n",
              "      background-color: #434B5C;\n",
              "      box-shadow: 0px 1px 3px 1px rgba(0, 0, 0, 0.15);\n",
              "      filter: drop-shadow(0px 1px 2px rgba(0, 0, 0, 0.3));\n",
              "      fill: #FFFFFF;\n",
              "    }\n",
              "  </style>\n",
              "\n",
              "      <script>\n",
              "        const buttonEl =\n",
              "          document.querySelector('#df-6c937724-ebd1-43f7-ad10-d4358647ceea button.colab-df-convert');\n",
              "        buttonEl.style.display =\n",
              "          google.colab.kernel.accessAllowed ? 'block' : 'none';\n",
              "\n",
              "        async function convertToInteractive(key) {\n",
              "          const element = document.querySelector('#df-6c937724-ebd1-43f7-ad10-d4358647ceea');\n",
              "          const dataTable =\n",
              "            await google.colab.kernel.invokeFunction('convertToInteractive',\n",
              "                                                     [key], {});\n",
              "          if (!dataTable) return;\n",
              "\n",
              "          const docLinkHtml = 'Like what you see? Visit the ' +\n",
              "            '<a target=\"_blank\" href=https://colab.research.google.com/notebooks/data_table.ipynb>data table notebook</a>'\n",
              "            + ' to learn more about interactive tables.';\n",
              "          element.innerHTML = '';\n",
              "          dataTable['output_type'] = 'display_data';\n",
              "          await google.colab.output.renderOutput(dataTable, element);\n",
              "          const docLink = document.createElement('div');\n",
              "          docLink.innerHTML = docLinkHtml;\n",
              "          element.appendChild(docLink);\n",
              "        }\n",
              "      </script>\n",
              "    </div>\n",
              "  </div>\n",
              "  "
            ]
          },
          "metadata": {},
          "execution_count": 64
        }
      ]
    },
    {
      "cell_type": "markdown",
      "source": [
        "**Temperature variations observed:**\n",
        "\n",
        "  *  *Max. Temperature recorded:* `41 *C`\n",
        "\n",
        "  *  *Min. Temperature recorded:* `0.82 *C`\n",
        "\n",
        "  *  *Median Temperature recorded in all the places is:* `20.5 *C`\n",
        "\n",
        "**Variations in humidity levels:**\n",
        "\n",
        "  *  *Max. humidity level recorded:* `100 %`\n",
        "\n",
        "  *  *Min. humidity level recorded:* `0 %`\n",
        "\n",
        "  *  *Median humidity level recorded in all the places is:* `62 %`\n",
        "\n",
        "**Observing variability of windspeed:**\n",
        "\n",
        "  *  *Max. windspeed recorded:* `56.99 km/h`\n",
        "\n",
        "  *  *Min. windspeed recorded:* `0.00 km/h`\n",
        "\n",
        "  *  *Median windspeed recorded in all the places is:* `12.99 km/h`\n"
      ],
      "metadata": {
        "id": "CA_RNWIgR3Bh"
      }
    },
    {
      "cell_type": "code",
      "source": [
        "df['datetime'] = pd.to_datetime(df['datetime'])\n",
        "df['Month'] = df['datetime'].dt.month\n",
        "df['Year'] = df['datetime'].dt.year\n",
        "df['Weekday'] = df['datetime'].dt.weekday"
      ],
      "metadata": {
        "id": "XCT3Cw44PeO2"
      },
      "execution_count": null,
      "outputs": []
    },
    {
      "cell_type": "code",
      "source": [
        "bins = [-1.00,20.00,30.00,40.00,50.00,60.00]\n",
        "groups = [\"Light winds\", \"Moderate winds\", \"Fresh winds\", \"Strong winds\", \"Near gale\"]\n",
        "df['wind_category'] = pd.cut(df['windspeed'],bins,labels=groups)"
      ],
      "metadata": {
        "id": "OZI660GrnK82"
      },
      "execution_count": null,
      "outputs": []
    },
    {
      "cell_type": "code",
      "source": [
        "bins1 = [-1,0,1,2,3,4,5,6]\n",
        "groups1 = ['Mon','Tue','Wed','Thur','Fri','Sat','Sun']\n",
        "df['Weekday'] = pd.cut(df['Weekday'],bins1,labels=groups1)\n",
        "df.head(1)"
      ],
      "metadata": {
        "colab": {
          "base_uri": "https://localhost:8080/",
          "height": 162
        },
        "id": "MAMMRqwZv7_e",
        "outputId": "5df1d9db-09be-4c39-dceb-bc14c69e8a69"
      },
      "execution_count": null,
      "outputs": [
        {
          "output_type": "execute_result",
          "data": {
            "text/plain": [
              "    datetime  season  holiday  workingday  weather  temp   atemp  humidity  \\\n",
              "0 2011-01-01       1        0           0        1  9.84  14.395        81   \n",
              "\n",
              "   windspeed  casual  registered  count  Month  Year Weekday wind_category  \n",
              "0        0.0       3          13     16      1  2011     Sat   Light winds  "
            ],
            "text/html": [
              "\n",
              "  <div id=\"df-ff5e24da-c931-472e-a9a5-ea711e2e8e6e\">\n",
              "    <div class=\"colab-df-container\">\n",
              "      <div>\n",
              "<style scoped>\n",
              "    .dataframe tbody tr th:only-of-type {\n",
              "        vertical-align: middle;\n",
              "    }\n",
              "\n",
              "    .dataframe tbody tr th {\n",
              "        vertical-align: top;\n",
              "    }\n",
              "\n",
              "    .dataframe thead th {\n",
              "        text-align: right;\n",
              "    }\n",
              "</style>\n",
              "<table border=\"1\" class=\"dataframe\">\n",
              "  <thead>\n",
              "    <tr style=\"text-align: right;\">\n",
              "      <th></th>\n",
              "      <th>datetime</th>\n",
              "      <th>season</th>\n",
              "      <th>holiday</th>\n",
              "      <th>workingday</th>\n",
              "      <th>weather</th>\n",
              "      <th>temp</th>\n",
              "      <th>atemp</th>\n",
              "      <th>humidity</th>\n",
              "      <th>windspeed</th>\n",
              "      <th>casual</th>\n",
              "      <th>registered</th>\n",
              "      <th>count</th>\n",
              "      <th>Month</th>\n",
              "      <th>Year</th>\n",
              "      <th>Weekday</th>\n",
              "      <th>wind_category</th>\n",
              "    </tr>\n",
              "  </thead>\n",
              "  <tbody>\n",
              "    <tr>\n",
              "      <th>0</th>\n",
              "      <td>2011-01-01</td>\n",
              "      <td>1</td>\n",
              "      <td>0</td>\n",
              "      <td>0</td>\n",
              "      <td>1</td>\n",
              "      <td>9.84</td>\n",
              "      <td>14.395</td>\n",
              "      <td>81</td>\n",
              "      <td>0.0</td>\n",
              "      <td>3</td>\n",
              "      <td>13</td>\n",
              "      <td>16</td>\n",
              "      <td>1</td>\n",
              "      <td>2011</td>\n",
              "      <td>Sat</td>\n",
              "      <td>Light winds</td>\n",
              "    </tr>\n",
              "  </tbody>\n",
              "</table>\n",
              "</div>\n",
              "      <button class=\"colab-df-convert\" onclick=\"convertToInteractive('df-ff5e24da-c931-472e-a9a5-ea711e2e8e6e')\"\n",
              "              title=\"Convert this dataframe to an interactive table.\"\n",
              "              style=\"display:none;\">\n",
              "        \n",
              "  <svg xmlns=\"http://www.w3.org/2000/svg\" height=\"24px\"viewBox=\"0 0 24 24\"\n",
              "       width=\"24px\">\n",
              "    <path d=\"M0 0h24v24H0V0z\" fill=\"none\"/>\n",
              "    <path d=\"M18.56 5.44l.94 2.06.94-2.06 2.06-.94-2.06-.94-.94-2.06-.94 2.06-2.06.94zm-11 1L8.5 8.5l.94-2.06 2.06-.94-2.06-.94L8.5 2.5l-.94 2.06-2.06.94zm10 10l.94 2.06.94-2.06 2.06-.94-2.06-.94-.94-2.06-.94 2.06-2.06.94z\"/><path d=\"M17.41 7.96l-1.37-1.37c-.4-.4-.92-.59-1.43-.59-.52 0-1.04.2-1.43.59L10.3 9.45l-7.72 7.72c-.78.78-.78 2.05 0 2.83L4 21.41c.39.39.9.59 1.41.59.51 0 1.02-.2 1.41-.59l7.78-7.78 2.81-2.81c.8-.78.8-2.07 0-2.86zM5.41 20L4 18.59l7.72-7.72 1.47 1.35L5.41 20z\"/>\n",
              "  </svg>\n",
              "      </button>\n",
              "      \n",
              "  <style>\n",
              "    .colab-df-container {\n",
              "      display:flex;\n",
              "      flex-wrap:wrap;\n",
              "      gap: 12px;\n",
              "    }\n",
              "\n",
              "    .colab-df-convert {\n",
              "      background-color: #E8F0FE;\n",
              "      border: none;\n",
              "      border-radius: 50%;\n",
              "      cursor: pointer;\n",
              "      display: none;\n",
              "      fill: #1967D2;\n",
              "      height: 32px;\n",
              "      padding: 0 0 0 0;\n",
              "      width: 32px;\n",
              "    }\n",
              "\n",
              "    .colab-df-convert:hover {\n",
              "      background-color: #E2EBFA;\n",
              "      box-shadow: 0px 1px 2px rgba(60, 64, 67, 0.3), 0px 1px 3px 1px rgba(60, 64, 67, 0.15);\n",
              "      fill: #174EA6;\n",
              "    }\n",
              "\n",
              "    [theme=dark] .colab-df-convert {\n",
              "      background-color: #3B4455;\n",
              "      fill: #D2E3FC;\n",
              "    }\n",
              "\n",
              "    [theme=dark] .colab-df-convert:hover {\n",
              "      background-color: #434B5C;\n",
              "      box-shadow: 0px 1px 3px 1px rgba(0, 0, 0, 0.15);\n",
              "      filter: drop-shadow(0px 1px 2px rgba(0, 0, 0, 0.3));\n",
              "      fill: #FFFFFF;\n",
              "    }\n",
              "  </style>\n",
              "\n",
              "      <script>\n",
              "        const buttonEl =\n",
              "          document.querySelector('#df-ff5e24da-c931-472e-a9a5-ea711e2e8e6e button.colab-df-convert');\n",
              "        buttonEl.style.display =\n",
              "          google.colab.kernel.accessAllowed ? 'block' : 'none';\n",
              "\n",
              "        async function convertToInteractive(key) {\n",
              "          const element = document.querySelector('#df-ff5e24da-c931-472e-a9a5-ea711e2e8e6e');\n",
              "          const dataTable =\n",
              "            await google.colab.kernel.invokeFunction('convertToInteractive',\n",
              "                                                     [key], {});\n",
              "          if (!dataTable) return;\n",
              "\n",
              "          const docLinkHtml = 'Like what you see? Visit the ' +\n",
              "            '<a target=\"_blank\" href=https://colab.research.google.com/notebooks/data_table.ipynb>data table notebook</a>'\n",
              "            + ' to learn more about interactive tables.';\n",
              "          element.innerHTML = '';\n",
              "          dataTable['output_type'] = 'display_data';\n",
              "          await google.colab.output.renderOutput(dataTable, element);\n",
              "          const docLink = document.createElement('div');\n",
              "          docLink.innerHTML = docLinkHtml;\n",
              "          element.appendChild(docLink);\n",
              "        }\n",
              "      </script>\n",
              "    </div>\n",
              "  </div>\n",
              "  "
            ]
          },
          "metadata": {},
          "execution_count": 67
        }
      ]
    },
    {
      "cell_type": "code",
      "source": [
        "plt.figure(figsize=(10,5))\n",
        "sns.boxplot(df['wind_category'],df['count'])\n",
        "plt.show()"
      ],
      "metadata": {
        "colab": {
          "base_uri": "https://localhost:8080/",
          "height": 335
        },
        "id": "274xU07VMXnb",
        "outputId": "7be3ff41-1864-4542-b988-20ba2f990d24"
      },
      "execution_count": null,
      "outputs": [
        {
          "output_type": "display_data",
          "data": {
            "text/plain": [
              "<Figure size 720x360 with 1 Axes>"
            ],
            "image/png": "[encoded data removed]"
          },
          "metadata": {
            "needs_background": "light"
          }
        }
      ]
    },
    {
      "cell_type": "markdown",
      "source": [
        "**Median number of bikes being used across all wind categories appears to be less than 200 and almost equal.**"
      ],
      "metadata": {
        "id": "6-xNF2rMKt52"
      }
    },
    {
      "cell_type": "code",
      "source": [
        "df.groupby('wind_category')['count'].count().sort_values(ascending=False)"
      ],
      "metadata": {
        "colab": {
          "base_uri": "https://localhost:8080/"
        },
        "id": "y-5IAh2RslID",
        "outputId": "101ced36-fa1d-4a74-afdf-398bbf45aa85"
      },
      "execution_count": null,
      "outputs": [
        {
          "output_type": "execute_result",
          "data": {
            "text/plain": [
              "wind_category\n",
              "Light winds       9391\n",
              "Moderate winds    1068\n",
              "Fresh winds        387\n",
              "Strong winds        36\n",
              "Near gale            4\n",
              "Name: count, dtype: int64"
            ]
          },
          "metadata": {},
          "execution_count": 69
        }
      ]
    },
    {
      "cell_type": "code",
      "source": [
        "plt.figure(figsize=(5,5))\n",
        "plt.title(\"Wind Categories\")\n",
        "plt.pie(df.groupby('wind_category')['count'].count(),labels = [\"Light winds\", \"Moderate winds\", \"Fresh winds\", \"Strong winds\",'.'])\n",
        "plt.show()"
      ],
      "metadata": {
        "colab": {
          "base_uri": "https://localhost:8080/",
          "height": 319
        },
        "id": "exg7FcA9Iayo",
        "outputId": "ab34b132-4e2c-490e-b65a-3f2f55f38f75"
      },
      "execution_count": null,
      "outputs": [
        {
          "output_type": "display_data",
          "data": {
            "text/plain": [
              "<Figure size 360x360 with 1 Axes>"
            ],
            "image/png": "[encoded data removed]"
          },
          "metadata": {}
        }
      ]
    },
    {
      "cell_type": "code",
      "source": [
        "avg_wind = df.groupby('Month')['windspeed'].sum()/df.groupby('Month')['windspeed'].count()\n",
        "sns.lineplot(avg_wind.index,avg_wind)\n",
        "plt.xticks(np.arange(1,13),labels=['Jan','Feb','Mar','Apr','May','Jun','Jul','Aug','Sept','Oct','Nov','Dec'])\n",
        "plt.show()"
      ],
      "metadata": {
        "colab": {
          "base_uri": "https://localhost:8080/",
          "height": 279
        },
        "id": "Tcv9x85n94gA",
        "outputId": "e1d631de-1898-4580-8e49-7592f9de6a18"
      },
      "execution_count": null,
      "outputs": [
        {
          "output_type": "display_data",
          "data": {
            "text/plain": [
              "<Figure size 432x288 with 1 Axes>"
            ],
            "image/png": "[encoded data removed]"
          },
          "metadata": {
            "needs_background": "light"
          }
        }
      ]
    },
    {
      "cell_type": "markdown",
      "source": [
        "**Average wind speed is found to be high in the months of Jan,Feb,Mar,Apr and less in other months.**"
      ],
      "metadata": {
        "id": "w3pE0OfBQbWJ"
      }
    },
    {
      "cell_type": "code",
      "source": [
        "avg_temp = df.groupby('Month')['temp'].sum()/df.groupby('Month')['temp'].count()\n",
        "sns.lineplot(avg_temp.index,avg_temp)\n",
        "plt.xticks(np.arange(1,13),labels=['Jan','Feb','Mar','Apr','May','Jun','Jul','Aug','Sept','Oct','Nov','Dec'])\n",
        "plt.show()"
      ],
      "metadata": {
        "colab": {
          "base_uri": "https://localhost:8080/",
          "height": 279
        },
        "id": "Z1aoz7XOIIf0",
        "outputId": "53987278-d6ae-41f3-b342-2e8b42b6a671"
      },
      "execution_count": null,
      "outputs": [
        {
          "output_type": "display_data",
          "data": {
            "text/plain": [
              "<Figure size 432x288 with 1 Axes>"
            ],
            "image/png": "[encoded data removed]"
          },
          "metadata": {
            "needs_background": "light"
          }
        }
      ]
    },
    {
      "cell_type": "markdown",
      "source": [
        "**Average temp is found to be high in the months of Jun,Jul,Aug**"
      ],
      "metadata": {
        "id": "Pgp9Hs6-t7-j"
      }
    },
    {
      "cell_type": "code",
      "source": [
        "q1=df['count'].quantile(0.25)\n",
        "q3=df['count'].quantile(0.75)\n",
        "iqr=q3-q1\n",
        "df=df[(df['count']>(q1-1.5*iqr) ) & (df['count']<(q3+1.5*iqr))]\n"
      ],
      "metadata": {
        "id": "xAMWImYoaOgX"
      },
      "execution_count": null,
      "outputs": []
    },
    {
      "cell_type": "markdown",
      "source": [
        "# **Statistical Analysis:**"
      ],
      "metadata": {
        "id": "I2pnZmJyyEBx"
      }
    },
    {
      "cell_type": "markdown",
      "source": [
        "\n",
        "\n",
        "# 1. `Check if Working Day has an effect on the number of electric cycles rented` \n",
        "\n",
        "\n",
        "\n",
        "---\n"
      ],
      "metadata": {
        "id": "fUFt1yajuF56"
      }
    },
    {
      "cell_type": "code",
      "source": [
        "sns.boxplot(x='workingday', y='count', data=df)\n",
        "plt.show()"
      ],
      "metadata": {
        "colab": {
          "base_uri": "https://localhost:8080/",
          "height": 279
        },
        "id": "xz8HJqrARSO2",
        "outputId": "80b9e22f-8c73-47f6-e835-fcbc90b7d046"
      },
      "execution_count": null,
      "outputs": [
        {
          "output_type": "display_data",
          "data": {
            "text/plain": [
              "<Figure size 432x288 with 1 Axes>"
            ],
            "image/png": "[encoded data removed]"
          },
          "metadata": {
            "needs_background": "light"
          }
        }
      ]
    },
    {
      "cell_type": "markdown",
      "source": [
        "**There appears be marginal difference of count of bikes used on weekdays versus weekends.**\n",
        "To study the significance of this observation we can perform statistical tests as follows."
      ],
      "metadata": {
        "id": "4XKaR0TSg2jE"
      }
    },
    {
      "cell_type": "markdown",
      "source": [
        "### **Step 1: Hypothesis formulation: The null and alternate hypothesis**\n",
        "\n",
        "\n",
        "$H_0:$ The mean count on weekday **is equal** to the mean count on weekend.\n",
        "\n",
        "$H_a:$ The mean count on weekday **is greater than** mean count on weekend.\n",
        "\n",
        "Let $\\mu_1$ and $\\mu_2$ be the mean number of bikes used on weekdays and weekends respectively.\n",
        "\n",
        "Mathematically, the above formulated hypotheses can be written as:\n",
        "\n",
        "$H_0: \\mu_1 = \\mu_2$\n",
        "\n",
        "$H_a: \\mu_1 > \\mu_2$\n",
        "\n",
        "Let the significance value α = 0.05"
      ],
      "metadata": {
        "id": "zhywTgpM2-GV"
      }
    },
    {
      "cell_type": "markdown",
      "source": [
        "### **Step 2: Selecting the appropriate test**\n",
        "\n",
        "*This is a **one-tailed test** as the alternative hypothesis is only about checking if one of the means is greater than the other.* \n",
        "\n",
        "*As the population standard deviations are unknown, the **two sample** independent **t-test** will be the appropriate test for this problem.*\n"
      ],
      "metadata": {
        "id": "wFNUUQ0Lf91a"
      }
    },
    {
      "cell_type": "markdown",
      "source": [
        "### **Step 3: Preparing the data**"
      ],
      "metadata": {
        "id": "m4RvMdxNvMuJ"
      }
    },
    {
      "cell_type": "code",
      "source": [
        "df['workingday'].value_counts()"
      ],
      "metadata": {
        "colab": {
          "base_uri": "https://localhost:8080/"
        },
        "id": "_CF-EdbevNeo",
        "outputId": "d85ca67e-d932-4339-957a-f98f13cc80f4"
      },
      "execution_count": null,
      "outputs": [
        {
          "output_type": "execute_result",
          "data": {
            "text/plain": [
              "1    7161\n",
              "0    3422\n",
              "Name: workingday, dtype: int64"
            ]
          },
          "metadata": {},
          "execution_count": 75
        }
      ]
    },
    {
      "cell_type": "code",
      "source": [
        "df.groupby('workingday')['count'].count()"
      ],
      "metadata": {
        "colab": {
          "base_uri": "https://localhost:8080/"
        },
        "id": "nkup_dW3sO6B",
        "outputId": "a18227b8-7070-4448-9333-aa0b608c356a"
      },
      "execution_count": null,
      "outputs": [
        {
          "output_type": "execute_result",
          "data": {
            "text/plain": [
              "workingday\n",
              "0    3422\n",
              "1    7161\n",
              "Name: count, dtype: int64"
            ]
          },
          "metadata": {},
          "execution_count": 76
        }
      ]
    },
    {
      "cell_type": "code",
      "source": [
        "plt.title(\"Weekday vs Weekend\")\n",
        "plt.pie(df.groupby('workingday')['count'].count(),labels=['weekend','weekday'])\n",
        "plt.show()"
      ],
      "metadata": {
        "colab": {
          "base_uri": "https://localhost:8080/",
          "height": 264
        },
        "id": "8lQ-HlKj3VwH",
        "outputId": "fdab6ffa-ad49-4485-94a6-d17b599416d2"
      },
      "execution_count": null,
      "outputs": [
        {
          "output_type": "display_data",
          "data": {
            "text/plain": [
              "<Figure size 432x288 with 1 Axes>"
            ],
            "image/png": "[encoded data removed]"
          },
          "metadata": {}
        }
      ]
    },
    {
      "cell_type": "markdown",
      "source": [
        "\n",
        "\n",
        "---\n",
        "\n",
        "\n",
        "**Here from the pie chart we observe that:** \n",
        "\n",
        "`more bikes are being used on weekdays than weekends.`\n",
        "\n",
        "\n",
        "---\n",
        "\n"
      ],
      "metadata": {
        "id": "AYsEkr1w5brB"
      }
    },
    {
      "cell_type": "code",
      "source": [
        "weekday = df[df['workingday'] == 1]['count'].sample(3422)\n",
        "weekend = df[df['workingday'] == 0]['count'].sample(3422)"
      ],
      "metadata": {
        "id": "oQmuNCmfvWVm"
      },
      "execution_count": null,
      "outputs": []
    },
    {
      "cell_type": "code",
      "source": [
        "plt.figure(figsize=(20,5))\n",
        "plt.subplot(1,4,1)\n",
        "sns.distplot(weekday,kde=True)\n",
        "plt.subplot(1,4,2)\n",
        "sns.distplot(weekend,kde=True)\n",
        "plt.show()"
      ],
      "metadata": {
        "colab": {
          "base_uri": "https://localhost:8080/",
          "height": 337
        },
        "id": "eKSZmkc-9dWq",
        "outputId": "91b9f832-2f19-4449-9e1b-838bd9dee079"
      },
      "execution_count": null,
      "outputs": [
        {
          "output_type": "display_data",
          "data": {
            "text/plain": [
              "<Figure size 1440x360 with 2 Axes>"
            ],
            "image/png": "[encoded data removed]"
          },
          "metadata": {
            "needs_background": "light"
          }
        }
      ]
    },
    {
      "cell_type": "markdown",
      "source": [
        "\n",
        "\n",
        "---\n",
        "\n",
        "\n",
        "**From the above histograms for counts of bikes used on weekdays and weekends , we can say that the data is not normally distributed and so we can use tranformations to try to make it normal.**\n",
        "\n",
        "\n",
        "---\n",
        "\n"
      ],
      "metadata": {
        "id": "hfAxRgiVzgEu"
      }
    },
    {
      "cell_type": "code",
      "source": [
        "log_weekday = np.log(weekday)\n",
        "log_weekend = np.log(weekend)\n",
        "plt.figure(figsize=(20,5))\n",
        "plt.subplot(1,4,1)\n",
        "sns.distplot(log_weekday,kde=True)\n",
        "plt.subplot(1,4,2)\n",
        "sns.distplot(log_weekend,kde=True)\n",
        "plt.show()"
      ],
      "metadata": {
        "colab": {
          "base_uri": "https://localhost:8080/",
          "height": 334
        },
        "id": "7r9u3hYy9qbk",
        "outputId": "614f785a-6503-4129-ab8d-031fddc22b1c"
      },
      "execution_count": null,
      "outputs": [
        {
          "output_type": "display_data",
          "data": {
            "text/plain": [
              "<Figure size 1440x360 with 2 Axes>"
            ],
            "image/png": "[encoded data removed]"
          },
          "metadata": {
            "needs_background": "light"
          }
        }
      ]
    },
    {
      "cell_type": "markdown",
      "source": [
        "\n",
        "\n",
        "---\n",
        "\n",
        "\n",
        "**By transforming the data using the log transform we get in some measure, a normal data distribution.**\n",
        "\n",
        "\n",
        "---\n",
        "\n"
      ],
      "metadata": {
        "id": "sMt6fTanzW8B"
      }
    },
    {
      "cell_type": "code",
      "source": [
        "print('The sample standard deviation of the count on weekday is:', round(log_weekday.std(),2))\n",
        "print('The sample standard deviation of the count on weekend is:', round(log_weekend.std(),2))\n"
      ],
      "metadata": {
        "colab": {
          "base_uri": "https://localhost:8080/"
        },
        "id": "zDDywtJ-vnco",
        "outputId": "4b25d719-043f-44d3-cf3a-22dd7a2a44e8"
      },
      "execution_count": null,
      "outputs": [
        {
          "output_type": "stream",
          "name": "stdout",
          "text": [
            "The sample standard deviation of the count on weekday is: 1.5\n",
            "The sample standard deviation of the count on weekend is: 1.37\n"
          ]
        }
      ]
    },
    {
      "cell_type": "markdown",
      "source": [
        "As the sample standard deviations are different, the population standard deviations may be\n",
        "assumed to be different."
      ],
      "metadata": {
        "id": "T4DLAyVcvt7Q"
      }
    },
    {
      "cell_type": "markdown",
      "source": [
        "### **Step 4: Checking the test assumptions**\n",
        "\n",
        "*The t-test assumptions are as follows:*\n",
        "\n",
        "*  **Normality :**`We can use Shapiro-Wilk’s test to test for normality.` \n",
        "\n",
        "*  **Equal Variance :** `We can use Levene’s test to test for same variance.`\n",
        "\n"
      ],
      "metadata": {
        "id": "49jRHxJAgG2V"
      }
    },
    {
      "cell_type": "markdown",
      "source": [
        "**Shapiro-Wilk’s test**\n",
        "\n",
        "We will test the null hypothesis\n",
        "\n",
        "$H_0:$ Count follows normal distribution\n",
        "against the alternative hypothesis\n",
        "\n",
        "$H_a:$ Count doesn't follow normal distribution\n",
        "\n",
        "Let the significance value α = 0.05"
      ],
      "metadata": {
        "id": "TszzOQIKraaq"
      }
    },
    {
      "cell_type": "code",
      "source": [
        "# Assumption 1: Normality\n",
        "# import the required function\n",
        "from scipy.stats import shapiro\n",
        "# find the p-value\n",
        "w1, p_value1 = shapiro(log_weekday) \n",
        "print('The p-value1 is', p_value1)\n",
        "w2, p_value2 = shapiro(log_weekend) \n",
        "print('The p-value2 is', p_value2)\n"
      ],
      "metadata": {
        "colab": {
          "base_uri": "https://localhost:8080/"
        },
        "id": "Z1DVxwGzrcQO",
        "outputId": "975c1de4-a5b7-4c3a-9687-3a103f2b2993"
      },
      "execution_count": null,
      "outputs": [
        {
          "output_type": "stream",
          "name": "stdout",
          "text": [
            "The p-value1 is 4.764414778704378e-44\n",
            "The p-value2 is 3.414232991865079e-37\n"
          ]
        }
      ]
    },
    {
      "cell_type": "markdown",
      "source": [
        "As **p_values** for both the distributions are **less than α** , we reject null hypothesis and thus we can say that the **weekday** and **weekend** distributions **do not follow normality**."
      ],
      "metadata": {
        "id": "XDi7vz3b4FVY"
      }
    },
    {
      "cell_type": "markdown",
      "source": [
        "**Levene’s test**\n",
        "\n",
        "We will test the null hypothesis\n",
        "\n",
        "$H_0:$ All the count variances are equal\n",
        "against the alternative hypothesis\n",
        "\n",
        "$H_a:$ At least one variance is different from the rest\n",
        "\n",
        "Let the significance value α = 0.05"
      ],
      "metadata": {
        "id": "lzZWIfn4rv9T"
      }
    },
    {
      "cell_type": "code",
      "source": [
        "#Assumption 2: Homogeneity of Variance\n",
        "#import the required function\n",
        "from scipy.stats import levene\n",
        "statistic, p_value = levene( log_weekday, log_weekend)\n",
        "# find the p-value\n",
        "print('The p-value is', p_value)\n"
      ],
      "metadata": {
        "id": "YeUZwO0FsQS-",
        "colab": {
          "base_uri": "https://localhost:8080/"
        },
        "outputId": "76c69dc5-3e7e-4fca-d6d1-260c0f2cd47b"
      },
      "execution_count": null,
      "outputs": [
        {
          "output_type": "stream",
          "name": "stdout",
          "text": [
            "The p-value is 0.06461031178398341\n"
          ]
        }
      ]
    },
    {
      "cell_type": "markdown",
      "source": [
        "As **p_value** is **greater than α** , we fail to reject null hypothesis and thus we can say that both **log transform of weekdays** and **log transform of weekends** have **same variances**."
      ],
      "metadata": {
        "id": "r54rWBdQ4boE"
      }
    },
    {
      "cell_type": "markdown",
      "source": [
        "### **Step 5: Calculate the p-value**\n"
      ],
      "metadata": {
        "id": "2PcZHD3ogo_j"
      }
    },
    {
      "cell_type": "code",
      "source": [
        "# import the required function\n",
        "from scipy.stats import ttest_ind\n",
        "# find the p-value\n",
        "test_stat, p_value = ttest_ind(log_weekday, log_weekend, equal_var = True, alternative = 'greater')\n",
        "print('The p-value is', p_value)\n"
      ],
      "metadata": {
        "id": "zfAqD6zZgQGq",
        "colab": {
          "base_uri": "https://localhost:8080/"
        },
        "outputId": "2f490894-00ec-4068-86f9-24f4047f9461"
      },
      "execution_count": null,
      "outputs": [
        {
          "output_type": "stream",
          "name": "stdout",
          "text": [
            "The p-value is 0.992913883542247\n"
          ]
        }
      ]
    },
    {
      "cell_type": "code",
      "source": [
        "# print the conclusion based on p-value\n",
        "if p_value < 0.05:\n",
        "    print(f'As the p-value {p_value} is less than the level of significance, we reject the null hypothesis')\n",
        "else:\n",
        "    print(f'As the p-value {p_value} is greater than the level of significance, we fail to reject the null hypothesis')"
      ],
      "metadata": {
        "id": "eE72Gh_agQEG",
        "colab": {
          "base_uri": "https://localhost:8080/"
        },
        "outputId": "68317753-209b-4c71-f375-feb12164f9aa"
      },
      "execution_count": null,
      "outputs": [
        {
          "output_type": "stream",
          "name": "stdout",
          "text": [
            "As the p-value 0.992913883542247 is greater than the level of significance, we fail to reject the null hypothesis\n"
          ]
        }
      ]
    },
    {
      "cell_type": "markdown",
      "source": [
        "## **Conclusion:**\n",
        "\n",
        "\n",
        "\n",
        "---\n",
        "\n",
        "\n",
        "\n",
        "```\n",
        "From the above statistical analysis we proved that, the count of bikes used on a weekday and weekend are same.\n",
        "```\n",
        "\n",
        "\n",
        "---\n",
        "\n",
        "\n"
      ],
      "metadata": {
        "id": "e5aimucA46tL"
      }
    },
    {
      "cell_type": "markdown",
      "source": [
        "\n",
        "\n",
        "---\n",
        "\n",
        "\n",
        "# 2. `Check if No. of cycles rented is similar or different in different weather` \n",
        "\n",
        "\n",
        "---\n",
        "\n"
      ],
      "metadata": {
        "id": "rLm9kS27uskJ"
      }
    },
    {
      "cell_type": "code",
      "source": [
        "sns.boxplot(x='weather', y='count', data=df)\n",
        "plt.show()"
      ],
      "metadata": {
        "id": "4mMxPHDJwf63",
        "colab": {
          "base_uri": "https://localhost:8080/",
          "height": 279
        },
        "outputId": "586c0b6f-7915-4f9f-bf16-37dff2d8dd63"
      },
      "execution_count": null,
      "outputs": [
        {
          "output_type": "display_data",
          "data": {
            "text/plain": [
              "<Figure size 432x288 with 1 Axes>"
            ],
            "image/png": "[encoded data removed]"
          },
          "metadata": {
            "needs_background": "light"
          }
        }
      ]
    },
    {
      "cell_type": "markdown",
      "source": [
        "\n",
        "\n",
        "---\n",
        "\n",
        "\n",
        "**We observe from the graph that the median number of bikes used from weather 1 to weather 3 keeps gradually reducing.**\n",
        "\n",
        "\n",
        "---"
      ],
      "metadata": {
        "id": "nX1JbY8yLxfa"
      }
    },
    {
      "cell_type": "markdown",
      "source": [
        "### **Step 1: Defining the null and alternate hypotheses**\n",
        "\n",
        "$H_0:$ The mean count in different weather are **equal**.\n",
        "\n",
        "$H_a:$ The mean count in different weather are **different**.\n",
        "\n",
        "Let the significance value α = 0.05"
      ],
      "metadata": {
        "id": "4TIRBLWchZJL"
      }
    },
    {
      "cell_type": "markdown",
      "source": [
        "### **Step 2: Selecting Appropriate test**\n",
        "\n",
        "This is a problem, concerning **three population means**.**One-way ANOVA** could be the appropriate test here provided normality and equality of variance assumptions are verified.\n",
        "\n",
        "*  For **testing of normality**, **Shapiro-Wilk’s test** is applied to the response variable.\n",
        "\n",
        "*  For **equality of variance**, **Levene test** is applied to the response variable.\n",
        "\n"
      ],
      "metadata": {
        "id": "PyXMCltEhY30"
      }
    },
    {
      "cell_type": "markdown",
      "source": [
        "### **Step 3: Preparing the data**\n",
        "\n"
      ],
      "metadata": {
        "id": "QcsoytHCc9qp"
      }
    },
    {
      "cell_type": "code",
      "source": [
        "df.weather.value_counts()"
      ],
      "metadata": {
        "colab": {
          "base_uri": "https://localhost:8080/"
        },
        "id": "0ygMfsJXMiEW",
        "outputId": "16a70bcf-f89e-41ef-e85f-38a5b834c512"
      },
      "execution_count": null,
      "outputs": [
        {
          "output_type": "execute_result",
          "data": {
            "text/plain": [
              "1    6962\n",
              "2    2770\n",
              "3     850\n",
              "4       1\n",
              "Name: weather, dtype: int64"
            ]
          },
          "metadata": {},
          "execution_count": 87
        }
      ]
    },
    {
      "cell_type": "markdown",
      "source": [
        "*weather 4 has just one value, hence we can drop it.*"
      ],
      "metadata": {
        "id": "6YqnsQBCMozw"
      }
    },
    {
      "cell_type": "code",
      "source": [
        "df=df[~(df['weather']==4)]\n",
        "w1 = df[df['weather'] == 1]['count'].sample(850)\n",
        "w2= df[df['weather'] == 2]['count'].sample(850)\n",
        "w3 = df[df['weather'] == 3]['count'].sample(850)\n"
      ],
      "metadata": {
        "id": "wwog7gtsMlbX"
      },
      "execution_count": null,
      "outputs": []
    },
    {
      "cell_type": "code",
      "source": [
        "df.groupby('weather')['count'].count()"
      ],
      "metadata": {
        "colab": {
          "base_uri": "https://localhost:8080/"
        },
        "id": "Uos7jzaer-Yi",
        "outputId": "2bd1356f-b150-4015-9f52-7268a2e96583"
      },
      "execution_count": null,
      "outputs": [
        {
          "output_type": "execute_result",
          "data": {
            "text/plain": [
              "weather\n",
              "1    6962\n",
              "2    2770\n",
              "3     850\n",
              "Name: count, dtype: int64"
            ]
          },
          "metadata": {},
          "execution_count": 89
        }
      ]
    },
    {
      "cell_type": "code",
      "source": [
        "plt.title(\"Weather Categories\")\n",
        "plt.pie(df.groupby('weather')['count'].count(),labels=['1','2','3'])\n",
        "plt.show()"
      ],
      "metadata": {
        "colab": {
          "base_uri": "https://localhost:8080/",
          "height": 264
        },
        "id": "XPbF1_57Fgv5",
        "outputId": "b3d7d80e-0839-4908-bd46-e76c963b744d"
      },
      "execution_count": null,
      "outputs": [
        {
          "output_type": "display_data",
          "data": {
            "text/plain": [
              "<Figure size 432x288 with 1 Axes>"
            ],
            "image/png": "[encoded data removed]"
          },
          "metadata": {}
        }
      ]
    },
    {
      "cell_type": "code",
      "source": [
        "df.groupby(['weather'])['count'].describe()"
      ],
      "metadata": {
        "colab": {
          "base_uri": "https://localhost:8080/",
          "height": 175
        },
        "id": "fAUpUkUSMsy0",
        "outputId": "d88ce9c7-ffe8-4045-f896-b6cfb0b9c355"
      },
      "execution_count": null,
      "outputs": [
        {
          "output_type": "execute_result",
          "data": {
            "text/plain": [
              "          count        mean         std  min   25%    50%    75%    max\n",
              "weather                                                                \n",
              "1        6962.0  187.131140  161.333785  1.0  45.0  153.0  286.0  646.0\n",
              "2        2770.0  166.117690  146.992422  1.0  39.0  130.0  254.0  646.0\n",
              "3         850.0  111.862353  121.233389  1.0  23.0   70.5  157.0  646.0"
            ],
            "text/html": [
              "\n",
              "  <div id=\"df-c6831345-4a00-467b-b80d-6460390184ca\">\n",
              "    <div class=\"colab-df-container\">\n",
              "      <div>\n",
              "<style scoped>\n",
              "    .dataframe tbody tr th:only-of-type {\n",
              "        vertical-align: middle;\n",
              "    }\n",
              "\n",
              "    .dataframe tbody tr th {\n",
              "        vertical-align: top;\n",
              "    }\n",
              "\n",
              "    .dataframe thead th {\n",
              "        text-align: right;\n",
              "    }\n",
              "</style>\n",
              "<table border=\"1\" class=\"dataframe\">\n",
              "  <thead>\n",
              "    <tr style=\"text-align: right;\">\n",
              "      <th></th>\n",
              "      <th>count</th>\n",
              "      <th>mean</th>\n",
              "      <th>std</th>\n",
              "      <th>min</th>\n",
              "      <th>25%</th>\n",
              "      <th>50%</th>\n",
              "      <th>75%</th>\n",
              "      <th>max</th>\n",
              "    </tr>\n",
              "    <tr>\n",
              "      <th>weather</th>\n",
              "      <th></th>\n",
              "      <th></th>\n",
              "      <th></th>\n",
              "      <th></th>\n",
              "      <th></th>\n",
              "      <th></th>\n",
              "      <th></th>\n",
              "      <th></th>\n",
              "    </tr>\n",
              "  </thead>\n",
              "  <tbody>\n",
              "    <tr>\n",
              "      <th>1</th>\n",
              "      <td>6962.0</td>\n",
              "      <td>187.131140</td>\n",
              "      <td>161.333785</td>\n",
              "      <td>1.0</td>\n",
              "      <td>45.0</td>\n",
              "      <td>153.0</td>\n",
              "      <td>286.0</td>\n",
              "      <td>646.0</td>\n",
              "    </tr>\n",
              "    <tr>\n",
              "      <th>2</th>\n",
              "      <td>2770.0</td>\n",
              "      <td>166.117690</td>\n",
              "      <td>146.992422</td>\n",
              "      <td>1.0</td>\n",
              "      <td>39.0</td>\n",
              "      <td>130.0</td>\n",
              "      <td>254.0</td>\n",
              "      <td>646.0</td>\n",
              "    </tr>\n",
              "    <tr>\n",
              "      <th>3</th>\n",
              "      <td>850.0</td>\n",
              "      <td>111.862353</td>\n",
              "      <td>121.233389</td>\n",
              "      <td>1.0</td>\n",
              "      <td>23.0</td>\n",
              "      <td>70.5</td>\n",
              "      <td>157.0</td>\n",
              "      <td>646.0</td>\n",
              "    </tr>\n",
              "  </tbody>\n",
              "</table>\n",
              "</div>\n",
              "      <button class=\"colab-df-convert\" onclick=\"convertToInteractive('df-c6831345-4a00-467b-b80d-6460390184ca')\"\n",
              "              title=\"Convert this dataframe to an interactive table.\"\n",
              "              style=\"display:none;\">\n",
              "        \n",
              "  <svg xmlns=\"http://www.w3.org/2000/svg\" height=\"24px\"viewBox=\"0 0 24 24\"\n",
              "       width=\"24px\">\n",
              "    <path d=\"M0 0h24v24H0V0z\" fill=\"none\"/>\n",
              "    <path d=\"M18.56 5.44l.94 2.06.94-2.06 2.06-.94-2.06-.94-.94-2.06-.94 2.06-2.06.94zm-11 1L8.5 8.5l.94-2.06 2.06-.94-2.06-.94L8.5 2.5l-.94 2.06-2.06.94zm10 10l.94 2.06.94-2.06 2.06-.94-2.06-.94-.94-2.06-.94 2.06-2.06.94z\"/><path d=\"M17.41 7.96l-1.37-1.37c-.4-.4-.92-.59-1.43-.59-.52 0-1.04.2-1.43.59L10.3 9.45l-7.72 7.72c-.78.78-.78 2.05 0 2.83L4 21.41c.39.39.9.59 1.41.59.51 0 1.02-.2 1.41-.59l7.78-7.78 2.81-2.81c.8-.78.8-2.07 0-2.86zM5.41 20L4 18.59l7.72-7.72 1.47 1.35L5.41 20z\"/>\n",
              "  </svg>\n",
              "      </button>\n",
              "      \n",
              "  <style>\n",
              "    .colab-df-container {\n",
              "      display:flex;\n",
              "      flex-wrap:wrap;\n",
              "      gap: 12px;\n",
              "    }\n",
              "\n",
              "    .colab-df-convert {\n",
              "      background-color: #E8F0FE;\n",
              "      border: none;\n",
              "      border-radius: 50%;\n",
              "      cursor: pointer;\n",
              "      display: none;\n",
              "      fill: #1967D2;\n",
              "      height: 32px;\n",
              "      padding: 0 0 0 0;\n",
              "      width: 32px;\n",
              "    }\n",
              "\n",
              "    .colab-df-convert:hover {\n",
              "      background-color: #E2EBFA;\n",
              "      box-shadow: 0px 1px 2px rgba(60, 64, 67, 0.3), 0px 1px 3px 1px rgba(60, 64, 67, 0.15);\n",
              "      fill: #174EA6;\n",
              "    }\n",
              "\n",
              "    [theme=dark] .colab-df-convert {\n",
              "      background-color: #3B4455;\n",
              "      fill: #D2E3FC;\n",
              "    }\n",
              "\n",
              "    [theme=dark] .colab-df-convert:hover {\n",
              "      background-color: #434B5C;\n",
              "      box-shadow: 0px 1px 3px 1px rgba(0, 0, 0, 0.15);\n",
              "      filter: drop-shadow(0px 1px 2px rgba(0, 0, 0, 0.3));\n",
              "      fill: #FFFFFF;\n",
              "    }\n",
              "  </style>\n",
              "\n",
              "      <script>\n",
              "        const buttonEl =\n",
              "          document.querySelector('#df-c6831345-4a00-467b-b80d-6460390184ca button.colab-df-convert');\n",
              "        buttonEl.style.display =\n",
              "          google.colab.kernel.accessAllowed ? 'block' : 'none';\n",
              "\n",
              "        async function convertToInteractive(key) {\n",
              "          const element = document.querySelector('#df-c6831345-4a00-467b-b80d-6460390184ca');\n",
              "          const dataTable =\n",
              "            await google.colab.kernel.invokeFunction('convertToInteractive',\n",
              "                                                     [key], {});\n",
              "          if (!dataTable) return;\n",
              "\n",
              "          const docLinkHtml = 'Like what you see? Visit the ' +\n",
              "            '<a target=\"_blank\" href=https://colab.research.google.com/notebooks/data_table.ipynb>data table notebook</a>'\n",
              "            + ' to learn more about interactive tables.';\n",
              "          element.innerHTML = '';\n",
              "          dataTable['output_type'] = 'display_data';\n",
              "          await google.colab.output.renderOutput(dataTable, element);\n",
              "          const docLink = document.createElement('div');\n",
              "          docLink.innerHTML = docLinkHtml;\n",
              "          element.appendChild(docLink);\n",
              "        }\n",
              "      </script>\n",
              "    </div>\n",
              "  </div>\n",
              "  "
            ]
          },
          "metadata": {},
          "execution_count": 91
        }
      ]
    },
    {
      "cell_type": "markdown",
      "source": [
        "*Highest average number of bikes appear to be used under weather 1 conditions.*"
      ],
      "metadata": {
        "id": "sI5X1pPLNsvg"
      }
    },
    {
      "cell_type": "code",
      "source": [
        "plt.figure(figsize=(15,5))\n",
        "plt.subplot(1,4,1)\n",
        "sns.distplot(w1,kde=True)\n",
        "plt.subplot(1,4,2)\n",
        "sns.distplot(w2,kde=True)\n",
        "plt.subplot(1,4,3)\n",
        "sns.distplot(w3,kde=True)\n",
        "plt.show()"
      ],
      "metadata": {
        "colab": {
          "base_uri": "https://localhost:8080/",
          "height": 334
        },
        "id": "1g2_yXcEXMgM",
        "outputId": "9052cb8a-dce0-4bd7-bf52-704a4f35a8a2"
      },
      "execution_count": null,
      "outputs": [
        {
          "output_type": "display_data",
          "data": {
            "text/plain": [
              "<Figure size 1080x360 with 3 Axes>"
            ],
            "image/png": "[encoded data removed]"
          },
          "metadata": {
            "needs_background": "light"
          }
        }
      ]
    },
    {
      "cell_type": "markdown",
      "source": [
        "Above are the distribution plots for the counts of bikes on different weather conditions.\n",
        "\n",
        "The plot clearly shows that the data is not normally distributed, we will apply transformations on the data to try to bring it close to normality."
      ],
      "metadata": {
        "id": "ZIyqBEZ8OwJx"
      }
    },
    {
      "cell_type": "code",
      "source": [
        "print('The sample standard deviation of weather 1 is:', round(w1.std(),4))\n",
        "print('The sample standard deviation of weather 2 is:', round(w2.std(),4))\n",
        "print('The sample standard deviation of weather 3 is:', round(w3.std(),4))"
      ],
      "metadata": {
        "colab": {
          "base_uri": "https://localhost:8080/"
        },
        "id": "4LWfJ7JJei-f",
        "outputId": "d4224821-2fd1-4c98-e85b-b6f96902d7eb"
      },
      "execution_count": null,
      "outputs": [
        {
          "output_type": "stream",
          "name": "stdout",
          "text": [
            "The sample standard deviation of weather 1 is: 162.5004\n",
            "The sample standard deviation of weather 2 is: 152.4882\n",
            "The sample standard deviation of weather 3 is: 121.2334\n"
          ]
        }
      ]
    },
    {
      "cell_type": "markdown",
      "source": [
        "*There appears to be **siginificant difference** in **variances** between the distributions.*"
      ],
      "metadata": {
        "id": "bYbfBjXYeqda"
      }
    },
    {
      "cell_type": "markdown",
      "source": [
        "**After applying Log Transforms on the data**"
      ],
      "metadata": {
        "id": "7-8eM6A1cFsI"
      }
    },
    {
      "cell_type": "code",
      "source": [
        "plt.figure(figsize=(15,5))\n",
        "plt.subplot(1,4,1)\n",
        "sns.distplot(np.log(w1),kde=True)\n",
        "plt.subplot(1,4,2)\n",
        "sns.distplot(np.log(w2),kde=True)\n",
        "plt.subplot(1,4,3)\n",
        "sns.distplot(np.log(w3),kde=True)\n",
        "plt.show()"
      ],
      "metadata": {
        "colab": {
          "base_uri": "https://localhost:8080/",
          "height": 334
        },
        "id": "GgDEQCuIXBoJ",
        "outputId": "4ef0883f-ac6b-4917-8756-a81fa35e2f71"
      },
      "execution_count": null,
      "outputs": [
        {
          "output_type": "display_data",
          "data": {
            "text/plain": [
              "<Figure size 1080x360 with 3 Axes>"
            ],
            "image/png": "[encoded data removed]"
          },
          "metadata": {
            "needs_background": "light"
          }
        }
      ]
    },
    {
      "cell_type": "markdown",
      "source": [
        "We can notice that the data in some measure appears to be normally distribution."
      ],
      "metadata": {
        "id": "TulzLWebb-QR"
      }
    },
    {
      "cell_type": "code",
      "source": [
        "print('The sample standard deviation of log of weather 1 is:', round(np.log(w1).std(),4))\n",
        "print('The sample standard deviation of log of weather 2 is:', round(np.log(w2).std(),4))\n",
        "print('The sample standard deviation of log of weather 3 is:', round(np.log(w3).std(),4))"
      ],
      "metadata": {
        "colab": {
          "base_uri": "https://localhost:8080/"
        },
        "id": "RxhIDYdceKnB",
        "outputId": "b7b6e94e-9b3f-44d4-b236-1cd68bf20752"
      },
      "execution_count": null,
      "outputs": [
        {
          "output_type": "stream",
          "name": "stdout",
          "text": [
            "The sample standard deviation of log of weather 1 is: 1.4504\n",
            "The sample standard deviation of log of weather 2 is: 1.4115\n",
            "The sample standard deviation of log of weather 3 is: 1.4746\n"
          ]
        }
      ]
    },
    {
      "cell_type": "markdown",
      "source": [
        "We are able to get same variances for the distributions by applying log tranform on the data."
      ],
      "metadata": {
        "id": "Lq2Jk3Pmevey"
      }
    },
    {
      "cell_type": "markdown",
      "source": [
        "### **Step 4: Checking the test assumptions**\n",
        "\n",
        "**Shapiro-Wilk’s test**\n",
        "\n",
        "We will test the null hypothesis\n",
        "\n",
        "$H_0:$ Count follows normal distribution\n",
        "against the alternative hypothesis\n",
        "\n",
        "$H_a:$ Count doesn't follow normal distribution\n",
        "\n",
        "Let the significance value α = 0.05"
      ],
      "metadata": {
        "id": "cK23LRnhMgit"
      }
    },
    {
      "cell_type": "code",
      "source": [
        "# Assumption 1: Normality\n",
        "# import the required function\n",
        "from scipy.stats import shapiro\n",
        "# find the p-value\n",
        "w1_1, p_value1 = shapiro(np.log(w1)) \n",
        "print('The p-value1 is', p_value1)\n",
        "w2_2, p_value2 = shapiro(np.log(w2)) \n",
        "print('The p-value is', p_value2)\n",
        "w3_3, p_value3 = shapiro(np.log(w3)) \n",
        "print('The p-value is', p_value3)"
      ],
      "metadata": {
        "id": "-sryHjlkh4RM",
        "colab": {
          "base_uri": "https://localhost:8080/"
        },
        "outputId": "87be482a-36a6-4ae2-dce9-02df1adaf02f"
      },
      "execution_count": null,
      "outputs": [
        {
          "output_type": "stream",
          "name": "stdout",
          "text": [
            "The p-value1 is 3.1496331672790287e-25\n",
            "The p-value is 4.640816855165634e-21\n",
            "The p-value is 4.734322575577441e-17\n"
          ]
        }
      ]
    },
    {
      "cell_type": "markdown",
      "source": [
        "As **p_values** for both the distributions are **less than α** , we reject the null hypothesis and thus we can say that the **weather 1,2 and 3** distributions **do  not follow normality**."
      ],
      "metadata": {
        "id": "WWZ6k8ndOJvn"
      }
    },
    {
      "cell_type": "markdown",
      "source": [
        "**Levene’s test**\n",
        "\n",
        "We will test the null hypothesis\n",
        "\n",
        "$H_0:$ All the count variances are equal\n",
        "against the alternative hypothesis\n",
        "\n",
        "$H_a:$ At least one variance is different from the rest\n",
        "\n",
        "Let the significance value α = 0.05"
      ],
      "metadata": {
        "id": "L8mpDUbpiIg-"
      }
    },
    {
      "cell_type": "code",
      "source": [
        "#Assumption 2: Homogeneity of Variance\n",
        "#import the required function\n",
        "from scipy.stats import levene\n",
        "statistic, p_value = levene(np.log(w1), np.log(w2), np.log(w3))\n",
        "# find the p-value\n",
        "print('The p-value is', p_value)\n"
      ],
      "metadata": {
        "id": "n4h4lLPbiVzs",
        "colab": {
          "base_uri": "https://localhost:8080/"
        },
        "outputId": "b08eb242-0081-4d8a-a88c-2c67a6442d8e"
      },
      "execution_count": null,
      "outputs": [
        {
          "output_type": "stream",
          "name": "stdout",
          "text": [
            "The p-value is 0.2083289785906003\n"
          ]
        }
      ]
    },
    {
      "cell_type": "markdown",
      "source": [
        "As **p_value** is **greater than α** , we fail to reject null hypothesis and thus we can say that distributions for **weather 1,2 and 3** have **same variances**."
      ],
      "metadata": {
        "id": "GJjqoQmUfC7V"
      }
    },
    {
      "cell_type": "markdown",
      "source": [
        "### **Step 5: Calculate the p-value**\n"
      ],
      "metadata": {
        "id": "vo4EHW1aiicH"
      }
    },
    {
      "cell_type": "code",
      "source": [
        "# import the required function\n",
        "from scipy.stats import f_oneway\n",
        "# find the p-value\n",
        "test_stat, p_value = f_oneway(np.log(w1),np.log(w2),np.log(w3))\n",
        "# print the p-value\n",
        "print('The p-value is', p_value)"
      ],
      "metadata": {
        "id": "wYzl-FnYihrp",
        "colab": {
          "base_uri": "https://localhost:8080/"
        },
        "outputId": "cf02aaaa-ec39-47e6-b292-2fefbe908841"
      },
      "execution_count": null,
      "outputs": [
        {
          "output_type": "stream",
          "name": "stdout",
          "text": [
            "The p-value is 3.0593173437044304e-23\n"
          ]
        }
      ]
    },
    {
      "cell_type": "code",
      "source": [
        "# print the conclusion based on p-value\n",
        "if p_value < 0.05:\n",
        "    print(f'As the p-value {p_value} is less than the level of significance, we reject the null hypothesis')\n",
        "else:\n",
        "    print(f'As the p-value {p_value} is greater than the level of significance, we fail to reject the null hypothesis')"
      ],
      "metadata": {
        "id": "o6FpvFmyio-e",
        "colab": {
          "base_uri": "https://localhost:8080/"
        },
        "outputId": "78c8953c-5fbb-4a47-fda1-c168065d56d7"
      },
      "execution_count": null,
      "outputs": [
        {
          "output_type": "stream",
          "name": "stdout",
          "text": [
            "As the p-value 3.0593173437044304e-23 is less than the level of significance, we reject the null hypothesis\n"
          ]
        }
      ]
    },
    {
      "cell_type": "markdown",
      "source": [
        "## **Conclusion:**\n",
        "\n",
        "\n",
        "\n",
        "\n",
        "---\n",
        "\n",
        "\n",
        "```\n",
        "Hence, we have enough statistical evidence to say that the mean count of rented bicycles are not\n",
        "equal in different weather.\n",
        "```\n",
        "\n",
        "\n",
        "\n",
        "---\n",
        "\n"
      ],
      "metadata": {
        "id": "TvPFcIHxfn5b"
      }
    },
    {
      "cell_type": "markdown",
      "source": [
        "\n",
        "# 3. `Check if No. of cycles rented is similar or different in different season`\n",
        "\n",
        "\n",
        "---\n",
        "\n"
      ],
      "metadata": {
        "id": "DaSfwvYvk3lv"
      }
    },
    {
      "cell_type": "code",
      "source": [
        "df.season.value_counts()"
      ],
      "metadata": {
        "colab": {
          "base_uri": "https://localhost:8080/"
        },
        "id": "a7aTzcVMkD6N",
        "outputId": "0f16f02b-9aa2-4304-ee44-605c7f435c93"
      },
      "execution_count": null,
      "outputs": [
        {
          "output_type": "execute_result",
          "data": {
            "text/plain": [
              "1    2669\n",
              "4    2664\n",
              "2    2633\n",
              "3    2616\n",
              "Name: season, dtype: int64"
            ]
          },
          "metadata": {},
          "execution_count": 100
        }
      ]
    },
    {
      "cell_type": "code",
      "source": [
        "sns.boxplot(x='season', y='count', data=df)\n",
        "plt.show()"
      ],
      "metadata": {
        "id": "QnOMbsPZwPWj",
        "colab": {
          "base_uri": "https://localhost:8080/",
          "height": 279
        },
        "outputId": "c18f72c4-e747-490f-9c8c-6479f72498c2"
      },
      "execution_count": null,
      "outputs": [
        {
          "output_type": "display_data",
          "data": {
            "text/plain": [
              "<Figure size 432x288 with 1 Axes>"
            ],
            "image/png": "[encoded data removed]"
          },
          "metadata": {
            "needs_background": "light"
          }
        }
      ]
    },
    {
      "cell_type": "code",
      "source": [
        "print(\"Median number of bicycles used in season 1 :\",df.loc[df['season']==1,'count'].median())\n",
        "print(\"Median number of bicycles used in season 2 :\",df.loc[df['season']==2,'count'].median())\n",
        "print(\"Median number of bicycles used in season 3 :\",df.loc[df['season']==3,'count'].median())\n",
        "print(\"Median number of bicycles used in season 4 :\",df.loc[df['season']==4,'count'].median())"
      ],
      "metadata": {
        "colab": {
          "base_uri": "https://localhost:8080/"
        },
        "id": "ddmMjZjwDRD_",
        "outputId": "e81a7636-9f60-48d8-ee90-188f97cdf120"
      },
      "execution_count": null,
      "outputs": [
        {
          "output_type": "stream",
          "name": "stdout",
          "text": [
            "Median number of bicycles used in season 1 : 78.0\n",
            "Median number of bicycles used in season 2 : 165.0\n",
            "Median number of bicycles used in season 3 : 185.0\n",
            "Median number of bicycles used in season 4 : 154.0\n"
          ]
        }
      ]
    },
    {
      "cell_type": "markdown",
      "source": [
        "Here we observe that median number of bicycles used in season 1 is less than in seasons 2,3 and 4."
      ],
      "metadata": {
        "id": "AR68PrKUkBg6"
      }
    },
    {
      "cell_type": "markdown",
      "source": [
        "### **Step 1: Define the null and alternate hypotheses**\n",
        "\n",
        "$H_0:$ The mean count in different seasons are equal.\n",
        "\n",
        "$H_a:$ The mean count in different seasons are different."
      ],
      "metadata": {
        "id": "fI7eYSHzxXzh"
      }
    },
    {
      "cell_type": "markdown",
      "source": [
        "### **Step 2: Select Appropriate test**\n",
        "\n",
        "This is a problem, concerning three population means. One-way ANOVA could be the appropriate test here provided normality and equality of variance assumptions are verified.\n",
        "\n",
        "*  For testing of normality, Shapiro-Wilk’s test is applied to the response variable.\n",
        "\n",
        "*  For equality of variance, Levene test is applied to the response variable.\n",
        "\n"
      ],
      "metadata": {
        "id": "H2ACpkzUxnIY"
      }
    },
    {
      "cell_type": "markdown",
      "source": [
        "### **Step 3: Preparing the data**"
      ],
      "metadata": {
        "id": "QZyR3hAEobKN"
      }
    },
    {
      "cell_type": "code",
      "source": [
        "s1 = df[df['season'] == 1]['count'].sample(2616)\n",
        "s2= df[df['season'] == 2]['count'].sample(2616)\n",
        "s3 = df[df['season'] == 3]['count'].sample(2616)\n",
        "s4 = df[df['season'] == 4]['count'].sample(2616)"
      ],
      "metadata": {
        "id": "WVpNZlgIoed9"
      },
      "execution_count": null,
      "outputs": []
    },
    {
      "cell_type": "code",
      "source": [
        "df.groupby(['season'])['count'].describe()"
      ],
      "metadata": {
        "colab": {
          "base_uri": "https://localhost:8080/",
          "height": 206
        },
        "id": "XAzqoveEogWm",
        "outputId": "21556417-5e0d-4413-9770-3eb4c03606ed"
      },
      "execution_count": null,
      "outputs": [
        {
          "output_type": "execute_result",
          "data": {
            "text/plain": [
              "         count        mean         std  min    25%    50%     75%    max\n",
              "season                                                                  \n",
              "1       2669.0  112.775946  116.902627  1.0  24.00   78.0  161.00  644.0\n",
              "2       2633.0  195.653627  166.170802  1.0  45.00  165.0  299.00  646.0\n",
              "3       2616.0  210.484327  164.055532  1.0  59.75  185.0  323.25  646.0\n",
              "4       2664.0  184.404655  154.563069  1.0  48.75  154.0  276.25  646.0"
            ],
            "text/html": [
              "\n",
              "  <div id=\"df-74cbf74c-1759-47eb-bd7b-2d7d52b2e756\">\n",
              "    <div class=\"colab-df-container\">\n",
              "      <div>\n",
              "<style scoped>\n",
              "    .dataframe tbody tr th:only-of-type {\n",
              "        vertical-align: middle;\n",
              "    }\n",
              "\n",
              "    .dataframe tbody tr th {\n",
              "        vertical-align: top;\n",
              "    }\n",
              "\n",
              "    .dataframe thead th {\n",
              "        text-align: right;\n",
              "    }\n",
              "</style>\n",
              "<table border=\"1\" class=\"dataframe\">\n",
              "  <thead>\n",
              "    <tr style=\"text-align: right;\">\n",
              "      <th></th>\n",
              "      <th>count</th>\n",
              "      <th>mean</th>\n",
              "      <th>std</th>\n",
              "      <th>min</th>\n",
              "      <th>25%</th>\n",
              "      <th>50%</th>\n",
              "      <th>75%</th>\n",
              "      <th>max</th>\n",
              "    </tr>\n",
              "    <tr>\n",
              "      <th>season</th>\n",
              "      <th></th>\n",
              "      <th></th>\n",
              "      <th></th>\n",
              "      <th></th>\n",
              "      <th></th>\n",
              "      <th></th>\n",
              "      <th></th>\n",
              "      <th></th>\n",
              "    </tr>\n",
              "  </thead>\n",
              "  <tbody>\n",
              "    <tr>\n",
              "      <th>1</th>\n",
              "      <td>2669.0</td>\n",
              "      <td>112.775946</td>\n",
              "      <td>116.902627</td>\n",
              "      <td>1.0</td>\n",
              "      <td>24.00</td>\n",
              "      <td>78.0</td>\n",
              "      <td>161.00</td>\n",
              "      <td>644.0</td>\n",
              "    </tr>\n",
              "    <tr>\n",
              "      <th>2</th>\n",
              "      <td>2633.0</td>\n",
              "      <td>195.653627</td>\n",
              "      <td>166.170802</td>\n",
              "      <td>1.0</td>\n",
              "      <td>45.00</td>\n",
              "      <td>165.0</td>\n",
              "      <td>299.00</td>\n",
              "      <td>646.0</td>\n",
              "    </tr>\n",
              "    <tr>\n",
              "      <th>3</th>\n",
              "      <td>2616.0</td>\n",
              "      <td>210.484327</td>\n",
              "      <td>164.055532</td>\n",
              "      <td>1.0</td>\n",
              "      <td>59.75</td>\n",
              "      <td>185.0</td>\n",
              "      <td>323.25</td>\n",
              "      <td>646.0</td>\n",
              "    </tr>\n",
              "    <tr>\n",
              "      <th>4</th>\n",
              "      <td>2664.0</td>\n",
              "      <td>184.404655</td>\n",
              "      <td>154.563069</td>\n",
              "      <td>1.0</td>\n",
              "      <td>48.75</td>\n",
              "      <td>154.0</td>\n",
              "      <td>276.25</td>\n",
              "      <td>646.0</td>\n",
              "    </tr>\n",
              "  </tbody>\n",
              "</table>\n",
              "</div>\n",
              "      <button class=\"colab-df-convert\" onclick=\"convertToInteractive('df-74cbf74c-1759-47eb-bd7b-2d7d52b2e756')\"\n",
              "              title=\"Convert this dataframe to an interactive table.\"\n",
              "              style=\"display:none;\">\n",
              "        \n",
              "  <svg xmlns=\"http://www.w3.org/2000/svg\" height=\"24px\"viewBox=\"0 0 24 24\"\n",
              "       width=\"24px\">\n",
              "    <path d=\"M0 0h24v24H0V0z\" fill=\"none\"/>\n",
              "    <path d=\"M18.56 5.44l.94 2.06.94-2.06 2.06-.94-2.06-.94-.94-2.06-.94 2.06-2.06.94zm-11 1L8.5 8.5l.94-2.06 2.06-.94-2.06-.94L8.5 2.5l-.94 2.06-2.06.94zm10 10l.94 2.06.94-2.06 2.06-.94-2.06-.94-.94-2.06-.94 2.06-2.06.94z\"/><path d=\"M17.41 7.96l-1.37-1.37c-.4-.4-.92-.59-1.43-.59-.52 0-1.04.2-1.43.59L10.3 9.45l-7.72 7.72c-.78.78-.78 2.05 0 2.83L4 21.41c.39.39.9.59 1.41.59.51 0 1.02-.2 1.41-.59l7.78-7.78 2.81-2.81c.8-.78.8-2.07 0-2.86zM5.41 20L4 18.59l7.72-7.72 1.47 1.35L5.41 20z\"/>\n",
              "  </svg>\n",
              "      </button>\n",
              "      \n",
              "  <style>\n",
              "    .colab-df-container {\n",
              "      display:flex;\n",
              "      flex-wrap:wrap;\n",
              "      gap: 12px;\n",
              "    }\n",
              "\n",
              "    .colab-df-convert {\n",
              "      background-color: #E8F0FE;\n",
              "      border: none;\n",
              "      border-radius: 50%;\n",
              "      cursor: pointer;\n",
              "      display: none;\n",
              "      fill: #1967D2;\n",
              "      height: 32px;\n",
              "      padding: 0 0 0 0;\n",
              "      width: 32px;\n",
              "    }\n",
              "\n",
              "    .colab-df-convert:hover {\n",
              "      background-color: #E2EBFA;\n",
              "      box-shadow: 0px 1px 2px rgba(60, 64, 67, 0.3), 0px 1px 3px 1px rgba(60, 64, 67, 0.15);\n",
              "      fill: #174EA6;\n",
              "    }\n",
              "\n",
              "    [theme=dark] .colab-df-convert {\n",
              "      background-color: #3B4455;\n",
              "      fill: #D2E3FC;\n",
              "    }\n",
              "\n",
              "    [theme=dark] .colab-df-convert:hover {\n",
              "      background-color: #434B5C;\n",
              "      box-shadow: 0px 1px 3px 1px rgba(0, 0, 0, 0.15);\n",
              "      filter: drop-shadow(0px 1px 2px rgba(0, 0, 0, 0.3));\n",
              "      fill: #FFFFFF;\n",
              "    }\n",
              "  </style>\n",
              "\n",
              "      <script>\n",
              "        const buttonEl =\n",
              "          document.querySelector('#df-74cbf74c-1759-47eb-bd7b-2d7d52b2e756 button.colab-df-convert');\n",
              "        buttonEl.style.display =\n",
              "          google.colab.kernel.accessAllowed ? 'block' : 'none';\n",
              "\n",
              "        async function convertToInteractive(key) {\n",
              "          const element = document.querySelector('#df-74cbf74c-1759-47eb-bd7b-2d7d52b2e756');\n",
              "          const dataTable =\n",
              "            await google.colab.kernel.invokeFunction('convertToInteractive',\n",
              "                                                     [key], {});\n",
              "          if (!dataTable) return;\n",
              "\n",
              "          const docLinkHtml = 'Like what you see? Visit the ' +\n",
              "            '<a target=\"_blank\" href=https://colab.research.google.com/notebooks/data_table.ipynb>data table notebook</a>'\n",
              "            + ' to learn more about interactive tables.';\n",
              "          element.innerHTML = '';\n",
              "          dataTable['output_type'] = 'display_data';\n",
              "          await google.colab.output.renderOutput(dataTable, element);\n",
              "          const docLink = document.createElement('div');\n",
              "          docLink.innerHTML = docLinkHtml;\n",
              "          element.appendChild(docLink);\n",
              "        }\n",
              "      </script>\n",
              "    </div>\n",
              "  </div>\n",
              "  "
            ]
          },
          "metadata": {},
          "execution_count": 104
        }
      ]
    },
    {
      "cell_type": "code",
      "source": [
        "plt.figure(figsize=(15,5))\n",
        "plt.subplot(1,4,1)\n",
        "sns.distplot(s1,kde=True)\n",
        "plt.subplot(1,4,2)\n",
        "sns.distplot(s2,kde=True)\n",
        "plt.subplot(1,4,3)\n",
        "sns.distplot(s3,kde=True)\n",
        "plt.subplot(1,4,4)\n",
        "sns.distplot(s4,kde=True)\n",
        "plt.show()"
      ],
      "metadata": {
        "colab": {
          "base_uri": "https://localhost:8080/",
          "height": 334
        },
        "id": "EiYmfEaCqiEW",
        "outputId": "7e0f1e7c-f2ea-4026-97b9-48de9006e583"
      },
      "execution_count": null,
      "outputs": [
        {
          "output_type": "display_data",
          "data": {
            "text/plain": [
              "<Figure size 1080x360 with 4 Axes>"
            ],
            "image/png": "[encoded data removed]"
          },
          "metadata": {
            "needs_background": "light"
          }
        }
      ]
    },
    {
      "cell_type": "markdown",
      "source": [
        "The distribution does not seem normal, hence lets check by transforming it."
      ],
      "metadata": {
        "id": "Rf09j9qa469f"
      }
    },
    {
      "cell_type": "code",
      "source": [
        "plt.figure(figsize=(15,5))\n",
        "plt.subplot(1,4,1)\n",
        "sns.distplot(np.log(s1),kde=True)\n",
        "plt.subplot(1,4,2)\n",
        "sns.distplot(np.log(s2),kde=True)\n",
        "plt.subplot(1,4,3)\n",
        "sns.distplot(np.log(s3),kde=True)\n",
        "plt.subplot(1,4,4)\n",
        "sns.distplot(np.log(s4),kde=True)\n",
        "plt.show()"
      ],
      "metadata": {
        "colab": {
          "base_uri": "https://localhost:8080/",
          "height": 334
        },
        "id": "Tj2ytyPorUDy",
        "outputId": "9721d021-23d4-4519-be02-414183a3a000"
      },
      "execution_count": null,
      "outputs": [
        {
          "output_type": "display_data",
          "data": {
            "text/plain": [
              "<Figure size 1080x360 with 4 Axes>"
            ],
            "image/png": "[encoded data removed]"
          },
          "metadata": {
            "needs_background": "light"
          }
        }
      ]
    },
    {
      "cell_type": "markdown",
      "source": [
        "Here, the distributions seem slightly close version of a normal distribution."
      ],
      "metadata": {
        "id": "FTiyYwA6pP6t"
      }
    },
    {
      "cell_type": "markdown",
      "source": [
        "### **Step 4: Checking the test assumptions**"
      ],
      "metadata": {
        "id": "9mLfsiWEonyx"
      }
    },
    {
      "cell_type": "markdown",
      "source": [
        "**Shapiro-Wilk’s test**\n",
        "\n",
        "We will test the null hypothesis\n",
        "\n",
        "$H_0:$ Count follows normal distribution\n",
        "against the alternative hypothesis\n",
        "\n",
        "$H_a:$ Count doesn't follow normal distribution"
      ],
      "metadata": {
        "id": "ufcePsk_ojzo"
      }
    },
    {
      "cell_type": "code",
      "source": [
        "# Assumption 1: Normality\n",
        "# import the required function\n",
        "from scipy.stats import shapiro\n",
        "# find the p-value\n",
        "s1_1, p_value1 = shapiro(np.log(s1)) \n",
        "print('The p-value1 is', p_value1)\n",
        "s2_2, p_value2 = shapiro(np.log(s2)) \n",
        "print('The p-value is', p_value2)\n",
        "s3_3, p_value3 = shapiro(np.log(s3)) \n",
        "print('The p-value is', p_value3)\n",
        "s4_3, p_value4 = shapiro(np.log(s4)) \n",
        "print('The p-value is', p_value4)"
      ],
      "metadata": {
        "id": "VvkIKHdIxXgr",
        "colab": {
          "base_uri": "https://localhost:8080/"
        },
        "outputId": "6d32cf62-8582-4cd9-a5b6-4688f7ca4465"
      },
      "execution_count": null,
      "outputs": [
        {
          "output_type": "stream",
          "name": "stdout",
          "text": [
            "The p-value1 is 6.639989914317152e-35\n",
            "The p-value is 5.280382682358026e-39\n",
            "The p-value is 1.7753050244531107e-41\n",
            "The p-value is 2.2313744252491944e-39\n"
          ]
        }
      ]
    },
    {
      "cell_type": "markdown",
      "source": [
        "**Levene’s test**\n",
        "\n",
        "We will test the null hypothesis\n",
        "\n",
        "$H_0$: All the count variances are equal\n",
        "against the alternative hypothesis\n",
        "\n",
        "$H_a$: At least one variance is different from the rest"
      ],
      "metadata": {
        "id": "OSvonhZOz0gl"
      }
    },
    {
      "cell_type": "code",
      "source": [
        "#Assumption 2: Homogeneity of Variance\n",
        "#import the required function\n",
        "from scipy.stats import levene\n",
        "statistic, p_value = levene( np.log(s1), np.log(s2), np.log(s3),np.log(s4))\n",
        "# find the p-value\n",
        "print('The p-value is', p_value)\n"
      ],
      "metadata": {
        "id": "jPKhBAqyzwcN",
        "colab": {
          "base_uri": "https://localhost:8080/"
        },
        "outputId": "d56f0920-32ea-41da-f686-c1a7bf205710"
      },
      "execution_count": null,
      "outputs": [
        {
          "output_type": "stream",
          "name": "stdout",
          "text": [
            "The p-value is 1.027831351810812e-06\n"
          ]
        }
      ]
    },
    {
      "cell_type": "markdown",
      "source": [
        "### **Step 5: Calculating the p-value**"
      ],
      "metadata": {
        "id": "d90GOsr50VgK"
      }
    },
    {
      "cell_type": "code",
      "source": [
        "# import the required function\n",
        "from scipy.stats import f_oneway\n",
        "# find the p-value\n",
        "test_stat, p_value = f_oneway(np.log(w1),np.log(w2),np.log(w3))\n",
        "# print the p-value\n",
        "print('The p-value is', p_value)"
      ],
      "metadata": {
        "id": "EXS2_uw80WPq",
        "colab": {
          "base_uri": "https://localhost:8080/"
        },
        "outputId": "5bca75bb-d4ef-49d4-95d8-099e3f164834"
      },
      "execution_count": null,
      "outputs": [
        {
          "output_type": "stream",
          "name": "stdout",
          "text": [
            "The p-value is 3.0593173437044304e-23\n"
          ]
        }
      ]
    },
    {
      "cell_type": "code",
      "source": [
        "# print the conclusion based on p-value\n",
        "if p_value < 0.05:\n",
        "    print(f'As the p-value {p_value} is less than the level of significance, we reject the null hypothesis')\n",
        "else:\n",
        "    print(f'As the p-value {p_value} is greater than the level of significance, we fail to reject the null hypothesis')"
      ],
      "metadata": {
        "id": "lOW-SWLY0auY",
        "colab": {
          "base_uri": "https://localhost:8080/"
        },
        "outputId": "e5808f8c-2738-4efb-b4f1-330f1c1be06b"
      },
      "execution_count": null,
      "outputs": [
        {
          "output_type": "stream",
          "name": "stdout",
          "text": [
            "As the p-value 3.0593173437044304e-23 is less than the level of significance, we reject the null hypothesis\n"
          ]
        }
      ]
    },
    {
      "cell_type": "markdown",
      "source": [
        "## **Conclusion:**\n",
        "\n",
        "\n",
        "\n",
        "\n",
        "---\n",
        "\n",
        "\n",
        "```\n",
        "Therefore we have proved that the mean count of rented bicycles are not equal in different seasons.\n",
        "```\n",
        "\n",
        "---"
      ],
      "metadata": {
        "id": "YssSNuAQVin4"
      }
    },
    {
      "cell_type": "markdown",
      "source": [
        "### 4. `Check if Weather is dependent on the season`"
      ],
      "metadata": {
        "id": "2vkSh_Yak4Yz"
      }
    },
    {
      "cell_type": "code",
      "source": [
        "plt.figure(figsize=(20,5))\n",
        "plt.subplot(1,4,1)\n",
        "sns.barplot(x='season', y='temp', data=df)\n",
        "plt.subplot(1,4,2)\n",
        "sns.barplot(x='season', y='windspeed', data=df)\n",
        "plt.subplot(1,4,3)\n",
        "sns.barplot(x='season', y='humidity', data=df)\n",
        "plt.show()"
      ],
      "metadata": {
        "colab": {
          "base_uri": "https://localhost:8080/",
          "height": 336
        },
        "id": "VkSnRTiMXhUG",
        "outputId": "5ae25e12-2a35-4e4f-983a-f45e4b303577"
      },
      "execution_count": null,
      "outputs": [
        {
          "output_type": "display_data",
          "data": {
            "text/plain": [
              "<Figure size 1440x360 with 3 Axes>"
            ],
            "image/png": "[encoded data removed]"
          },
          "metadata": {
            "needs_background": "light"
          }
        }
      ]
    },
    {
      "cell_type": "markdown",
      "source": [
        "**Observations :**\n",
        "\n",
        "**Season vs Temperature :**\n",
        "\n",
        "\n",
        "```\n",
        "We notice that in seasons 2 and 3 , temperature is high.\n",
        "\n",
        "And in seasons 1 and 4, temperature is comparitively on the lower side.\n",
        "```\n",
        "\n",
        "**Season vs Windspeed :**\n",
        "\n",
        "```\n",
        "Windspeed is slightly higher in season 1.\n",
        "```\n",
        "\n",
        "**Season vs Humidity :**\n",
        "\n",
        "\n",
        "```\n",
        "The humidity levels vary marginally across seasons. There doesn't  appear to be a significant change.\n",
        "```\n",
        "\n",
        "\n"
      ],
      "metadata": {
        "id": "896g293tX-Q6"
      }
    },
    {
      "cell_type": "markdown",
      "source": [
        "### **Step 1: Hypothesis formulation: The null and alternate hypothesis**\n",
        "\n",
        "\n",
        "$H_0:$ The proportion of smoking is independent of different regions.\n",
        "\n",
        "$H_a:$ The proportion of smoking is significantly different across different regions.\n"
      ],
      "metadata": {
        "id": "Ot5aP1MJG2cd"
      }
    },
    {
      "cell_type": "markdown",
      "source": [
        "### **Step 2: Selecting the appropriate test**\n",
        "\n",
        "*As this is a test of independence, so **chi-squared test** is an appropriate test to understand the statistics.*"
      ],
      "metadata": {
        "id": "O_oeI4jEG4rK"
      }
    },
    {
      "cell_type": "markdown",
      "source": [
        "### **Step 3: Preparing the data**"
      ],
      "metadata": {
        "id": "uf8TEP_KG64T"
      }
    },
    {
      "cell_type": "code",
      "source": [
        "from scipy.stats import chi2_contingency\n",
        "contingency = pd.crosstab(df['season'],df['weather'])\n",
        "contingency"
      ],
      "metadata": {
        "id": "yS05OG8ljHjp",
        "colab": {
          "base_uri": "https://localhost:8080/",
          "height": 206
        },
        "outputId": "7713a656-bf6b-4f6e-d82e-d3bd137fa6c2"
      },
      "execution_count": null,
      "outputs": [
        {
          "output_type": "execute_result",
          "data": {
            "text/plain": [
              "weather     1    2    3\n",
              "season                 \n",
              "1        1744  714  211\n",
              "2        1720  690  223\n",
              "3        1842  579  195\n",
              "4        1656  787  221"
            ],
            "text/html": [
              "\n",
              "  <div id=\"df-d46c225f-7abd-4b79-868b-b7f44843c7e6\">\n",
              "    <div class=\"colab-df-container\">\n",
              "      <div>\n",
              "<style scoped>\n",
              "    .dataframe tbody tr th:only-of-type {\n",
              "        vertical-align: middle;\n",
              "    }\n",
              "\n",
              "    .dataframe tbody tr th {\n",
              "        vertical-align: top;\n",
              "    }\n",
              "\n",
              "    .dataframe thead th {\n",
              "        text-align: right;\n",
              "    }\n",
              "</style>\n",
              "<table border=\"1\" class=\"dataframe\">\n",
              "  <thead>\n",
              "    <tr style=\"text-align: right;\">\n",
              "      <th>weather</th>\n",
              "      <th>1</th>\n",
              "      <th>2</th>\n",
              "      <th>3</th>\n",
              "    </tr>\n",
              "    <tr>\n",
              "      <th>season</th>\n",
              "      <th></th>\n",
              "      <th></th>\n",
              "      <th></th>\n",
              "    </tr>\n",
              "  </thead>\n",
              "  <tbody>\n",
              "    <tr>\n",
              "      <th>1</th>\n",
              "      <td>1744</td>\n",
              "      <td>714</td>\n",
              "      <td>211</td>\n",
              "    </tr>\n",
              "    <tr>\n",
              "      <th>2</th>\n",
              "      <td>1720</td>\n",
              "      <td>690</td>\n",
              "      <td>223</td>\n",
              "    </tr>\n",
              "    <tr>\n",
              "      <th>3</th>\n",
              "      <td>1842</td>\n",
              "      <td>579</td>\n",
              "      <td>195</td>\n",
              "    </tr>\n",
              "    <tr>\n",
              "      <th>4</th>\n",
              "      <td>1656</td>\n",
              "      <td>787</td>\n",
              "      <td>221</td>\n",
              "    </tr>\n",
              "  </tbody>\n",
              "</table>\n",
              "</div>\n",
              "      <button class=\"colab-df-convert\" onclick=\"convertToInteractive('df-d46c225f-7abd-4b79-868b-b7f44843c7e6')\"\n",
              "              title=\"Convert this dataframe to an interactive table.\"\n",
              "              style=\"display:none;\">\n",
              "        \n",
              "  <svg xmlns=\"http://www.w3.org/2000/svg\" height=\"24px\"viewBox=\"0 0 24 24\"\n",
              "       width=\"24px\">\n",
              "    <path d=\"M0 0h24v24H0V0z\" fill=\"none\"/>\n",
              "    <path d=\"M18.56 5.44l.94 2.06.94-2.06 2.06-.94-2.06-.94-.94-2.06-.94 2.06-2.06.94zm-11 1L8.5 8.5l.94-2.06 2.06-.94-2.06-.94L8.5 2.5l-.94 2.06-2.06.94zm10 10l.94 2.06.94-2.06 2.06-.94-2.06-.94-.94-2.06-.94 2.06-2.06.94z\"/><path d=\"M17.41 7.96l-1.37-1.37c-.4-.4-.92-.59-1.43-.59-.52 0-1.04.2-1.43.59L10.3 9.45l-7.72 7.72c-.78.78-.78 2.05 0 2.83L4 21.41c.39.39.9.59 1.41.59.51 0 1.02-.2 1.41-.59l7.78-7.78 2.81-2.81c.8-.78.8-2.07 0-2.86zM5.41 20L4 18.59l7.72-7.72 1.47 1.35L5.41 20z\"/>\n",
              "  </svg>\n",
              "      </button>\n",
              "      \n",
              "  <style>\n",
              "    .colab-df-container {\n",
              "      display:flex;\n",
              "      flex-wrap:wrap;\n",
              "      gap: 12px;\n",
              "    }\n",
              "\n",
              "    .colab-df-convert {\n",
              "      background-color: #E8F0FE;\n",
              "      border: none;\n",
              "      border-radius: 50%;\n",
              "      cursor: pointer;\n",
              "      display: none;\n",
              "      fill: #1967D2;\n",
              "      height: 32px;\n",
              "      padding: 0 0 0 0;\n",
              "      width: 32px;\n",
              "    }\n",
              "\n",
              "    .colab-df-convert:hover {\n",
              "      background-color: #E2EBFA;\n",
              "      box-shadow: 0px 1px 2px rgba(60, 64, 67, 0.3), 0px 1px 3px 1px rgba(60, 64, 67, 0.15);\n",
              "      fill: #174EA6;\n",
              "    }\n",
              "\n",
              "    [theme=dark] .colab-df-convert {\n",
              "      background-color: #3B4455;\n",
              "      fill: #D2E3FC;\n",
              "    }\n",
              "\n",
              "    [theme=dark] .colab-df-convert:hover {\n",
              "      background-color: #434B5C;\n",
              "      box-shadow: 0px 1px 3px 1px rgba(0, 0, 0, 0.15);\n",
              "      filter: drop-shadow(0px 1px 2px rgba(0, 0, 0, 0.3));\n",
              "      fill: #FFFFFF;\n",
              "    }\n",
              "  </style>\n",
              "\n",
              "      <script>\n",
              "        const buttonEl =\n",
              "          document.querySelector('#df-d46c225f-7abd-4b79-868b-b7f44843c7e6 button.colab-df-convert');\n",
              "        buttonEl.style.display =\n",
              "          google.colab.kernel.accessAllowed ? 'block' : 'none';\n",
              "\n",
              "        async function convertToInteractive(key) {\n",
              "          const element = document.querySelector('#df-d46c225f-7abd-4b79-868b-b7f44843c7e6');\n",
              "          const dataTable =\n",
              "            await google.colab.kernel.invokeFunction('convertToInteractive',\n",
              "                                                     [key], {});\n",
              "          if (!dataTable) return;\n",
              "\n",
              "          const docLinkHtml = 'Like what you see? Visit the ' +\n",
              "            '<a target=\"_blank\" href=https://colab.research.google.com/notebooks/data_table.ipynb>data table notebook</a>'\n",
              "            + ' to learn more about interactive tables.';\n",
              "          element.innerHTML = '';\n",
              "          dataTable['output_type'] = 'display_data';\n",
              "          await google.colab.output.renderOutput(dataTable, element);\n",
              "          const docLink = document.createElement('div');\n",
              "          docLink.innerHTML = docLinkHtml;\n",
              "          element.appendChild(docLink);\n",
              "        }\n",
              "      </script>\n",
              "    </div>\n",
              "  </div>\n",
              "  "
            ]
          },
          "metadata": {},
          "execution_count": 112
        }
      ]
    },
    {
      "cell_type": "markdown",
      "source": [
        "### **Step 4: Checking the test assumptions**\n",
        "\n",
        "*As **chi-squared test is non parametric test**, it makes no assumptions on the population statistics of the data.*"
      ],
      "metadata": {
        "id": "m3ZIoZQBG_fj"
      }
    },
    {
      "cell_type": "markdown",
      "source": [
        "### **Step 5: Calculating the p-value**"
      ],
      "metadata": {
        "id": "2YG4Pmj7HDzH"
      }
    },
    {
      "cell_type": "code",
      "source": [
        "chi,pval,dof,exp = chi2_contingency(contingency)\n",
        "sig=0.05\n",
        "print(f'p_value: {pval:.6f}, significance value: {sig:.2f}\\n')\n",
        "if pval < 0.05:\n",
        "    print(f'As the p-value {p_value} is less than the level of significance, we reject the null hypothesis')\n",
        "else:\n",
        "    print(f'As the p-value {p_value} is greater than the level of significance, we fail to reject the null hypothesis')"
      ],
      "metadata": {
        "id": "vklqozwRjwu9",
        "colab": {
          "base_uri": "https://localhost:8080/"
        },
        "outputId": "95748f4c-86e8-4729-d5cc-f524d867884b"
      },
      "execution_count": null,
      "outputs": [
        {
          "output_type": "stream",
          "name": "stdout",
          "text": [
            "p_value: 0.000000, significance value: 0.05\n",
            "\n",
            "As the p-value 3.0593173437044304e-23 is less than the level of significance, we reject the null hypothesis\n"
          ]
        }
      ]
    },
    {
      "cell_type": "markdown",
      "source": [
        "## **Conclusion:**\n",
        "\n",
        "\n",
        "\n",
        "\n",
        "---\n",
        "\n",
        "\n",
        "```\n",
        "Hence, we have enough statistical evidence to say that weather does not depend on seasons.\n",
        "```\n",
        "\n",
        "---"
      ],
      "metadata": {
        "id": "SGbZjl77YEHP"
      }
    },
    {
      "cell_type": "code",
      "source": [
        "bins = [-1.00,10.00,15.00,25.00,30.00,40.00,50.00]\n",
        "groups = [\"cold\", \"cool\", \"warm\", \"Hot\", \"Very Hot\",\"Extreme heat\"]\n",
        "df['temp_category'] = pd.cut(df['temp'],bins,labels=groups)"
      ],
      "metadata": {
        "id": "9oilJqpqcjIf"
      },
      "execution_count": null,
      "outputs": []
    },
    {
      "cell_type": "code",
      "source": [
        "df.head(1)"
      ],
      "metadata": {
        "colab": {
          "base_uri": "https://localhost:8080/",
          "height": 162
        },
        "id": "EWDrbWUyeDAg",
        "outputId": "20e904a6-fc32-40a8-9113-b5ee6b7df727"
      },
      "execution_count": null,
      "outputs": [
        {
          "output_type": "execute_result",
          "data": {
            "text/plain": [
              "    datetime  season  holiday  workingday  weather  temp   atemp  humidity  \\\n",
              "0 2011-01-01       1        0           0        1  9.84  14.395        81   \n",
              "\n",
              "   windspeed  casual  registered  count  Month  Year Weekday wind_category  \\\n",
              "0        0.0       3          13     16      1  2011     Sat   Light winds   \n",
              "\n",
              "  temp_category  \n",
              "0          cold  "
            ],
            "text/html": [
              "\n",
              "  <div id=\"df-b1ff50cc-c0bf-48a8-9f8d-24fd12df1fc1\">\n",
              "    <div class=\"colab-df-container\">\n",
              "      <div>\n",
              "<style scoped>\n",
              "    .dataframe tbody tr th:only-of-type {\n",
              "        vertical-align: middle;\n",
              "    }\n",
              "\n",
              "    .dataframe tbody tr th {\n",
              "        vertical-align: top;\n",
              "    }\n",
              "\n",
              "    .dataframe thead th {\n",
              "        text-align: right;\n",
              "    }\n",
              "</style>\n",
              "<table border=\"1\" class=\"dataframe\">\n",
              "  <thead>\n",
              "    <tr style=\"text-align: right;\">\n",
              "      <th></th>\n",
              "      <th>datetime</th>\n",
              "      <th>season</th>\n",
              "      <th>holiday</th>\n",
              "      <th>workingday</th>\n",
              "      <th>weather</th>\n",
              "      <th>temp</th>\n",
              "      <th>atemp</th>\n",
              "      <th>humidity</th>\n",
              "      <th>windspeed</th>\n",
              "      <th>casual</th>\n",
              "      <th>registered</th>\n",
              "      <th>count</th>\n",
              "      <th>Month</th>\n",
              "      <th>Year</th>\n",
              "      <th>Weekday</th>\n",
              "      <th>wind_category</th>\n",
              "      <th>temp_category</th>\n",
              "    </tr>\n",
              "  </thead>\n",
              "  <tbody>\n",
              "    <tr>\n",
              "      <th>0</th>\n",
              "      <td>2011-01-01</td>\n",
              "      <td>1</td>\n",
              "      <td>0</td>\n",
              "      <td>0</td>\n",
              "      <td>1</td>\n",
              "      <td>9.84</td>\n",
              "      <td>14.395</td>\n",
              "      <td>81</td>\n",
              "      <td>0.0</td>\n",
              "      <td>3</td>\n",
              "      <td>13</td>\n",
              "      <td>16</td>\n",
              "      <td>1</td>\n",
              "      <td>2011</td>\n",
              "      <td>Sat</td>\n",
              "      <td>Light winds</td>\n",
              "      <td>cold</td>\n",
              "    </tr>\n",
              "  </tbody>\n",
              "</table>\n",
              "</div>\n",
              "      <button class=\"colab-df-convert\" onclick=\"convertToInteractive('df-b1ff50cc-c0bf-48a8-9f8d-24fd12df1fc1')\"\n",
              "              title=\"Convert this dataframe to an interactive table.\"\n",
              "              style=\"display:none;\">\n",
              "        \n",
              "  <svg xmlns=\"http://www.w3.org/2000/svg\" height=\"24px\"viewBox=\"0 0 24 24\"\n",
              "       width=\"24px\">\n",
              "    <path d=\"M0 0h24v24H0V0z\" fill=\"none\"/>\n",
              "    <path d=\"M18.56 5.44l.94 2.06.94-2.06 2.06-.94-2.06-.94-.94-2.06-.94 2.06-2.06.94zm-11 1L8.5 8.5l.94-2.06 2.06-.94-2.06-.94L8.5 2.5l-.94 2.06-2.06.94zm10 10l.94 2.06.94-2.06 2.06-.94-2.06-.94-.94-2.06-.94 2.06-2.06.94z\"/><path d=\"M17.41 7.96l-1.37-1.37c-.4-.4-.92-.59-1.43-.59-.52 0-1.04.2-1.43.59L10.3 9.45l-7.72 7.72c-.78.78-.78 2.05 0 2.83L4 21.41c.39.39.9.59 1.41.59.51 0 1.02-.2 1.41-.59l7.78-7.78 2.81-2.81c.8-.78.8-2.07 0-2.86zM5.41 20L4 18.59l7.72-7.72 1.47 1.35L5.41 20z\"/>\n",
              "  </svg>\n",
              "      </button>\n",
              "      \n",
              "  <style>\n",
              "    .colab-df-container {\n",
              "      display:flex;\n",
              "      flex-wrap:wrap;\n",
              "      gap: 12px;\n",
              "    }\n",
              "\n",
              "    .colab-df-convert {\n",
              "      background-color: #E8F0FE;\n",
              "      border: none;\n",
              "      border-radius: 50%;\n",
              "      cursor: pointer;\n",
              "      display: none;\n",
              "      fill: #1967D2;\n",
              "      height: 32px;\n",
              "      padding: 0 0 0 0;\n",
              "      width: 32px;\n",
              "    }\n",
              "\n",
              "    .colab-df-convert:hover {\n",
              "      background-color: #E2EBFA;\n",
              "      box-shadow: 0px 1px 2px rgba(60, 64, 67, 0.3), 0px 1px 3px 1px rgba(60, 64, 67, 0.15);\n",
              "      fill: #174EA6;\n",
              "    }\n",
              "\n",
              "    [theme=dark] .colab-df-convert {\n",
              "      background-color: #3B4455;\n",
              "      fill: #D2E3FC;\n",
              "    }\n",
              "\n",
              "    [theme=dark] .colab-df-convert:hover {\n",
              "      background-color: #434B5C;\n",
              "      box-shadow: 0px 1px 3px 1px rgba(0, 0, 0, 0.15);\n",
              "      filter: drop-shadow(0px 1px 2px rgba(0, 0, 0, 0.3));\n",
              "      fill: #FFFFFF;\n",
              "    }\n",
              "  </style>\n",
              "\n",
              "      <script>\n",
              "        const buttonEl =\n",
              "          document.querySelector('#df-b1ff50cc-c0bf-48a8-9f8d-24fd12df1fc1 button.colab-df-convert');\n",
              "        buttonEl.style.display =\n",
              "          google.colab.kernel.accessAllowed ? 'block' : 'none';\n",
              "\n",
              "        async function convertToInteractive(key) {\n",
              "          const element = document.querySelector('#df-b1ff50cc-c0bf-48a8-9f8d-24fd12df1fc1');\n",
              "          const dataTable =\n",
              "            await google.colab.kernel.invokeFunction('convertToInteractive',\n",
              "                                                     [key], {});\n",
              "          if (!dataTable) return;\n",
              "\n",
              "          const docLinkHtml = 'Like what you see? Visit the ' +\n",
              "            '<a target=\"_blank\" href=https://colab.research.google.com/notebooks/data_table.ipynb>data table notebook</a>'\n",
              "            + ' to learn more about interactive tables.';\n",
              "          element.innerHTML = '';\n",
              "          dataTable['output_type'] = 'display_data';\n",
              "          await google.colab.output.renderOutput(dataTable, element);\n",
              "          const docLink = document.createElement('div');\n",
              "          docLink.innerHTML = docLinkHtml;\n",
              "          element.appendChild(docLink);\n",
              "        }\n",
              "      </script>\n",
              "    </div>\n",
              "  </div>\n",
              "  "
            ]
          },
          "metadata": {},
          "execution_count": 115
        }
      ]
    },
    {
      "cell_type": "code",
      "source": [
        "df.groupby('temp_category')['count'].count().sort_values(ascending=False)"
      ],
      "metadata": {
        "colab": {
          "base_uri": "https://localhost:8080/"
        },
        "id": "Dcdi7MWTrZbN",
        "outputId": "7d46564f-e40a-4672-8776-afd7c6018031"
      },
      "execution_count": null,
      "outputs": [
        {
          "output_type": "execute_result",
          "data": {
            "text/plain": [
              "temp_category\n",
              "warm            3901\n",
              "Hot             2132\n",
              "cool            2123\n",
              "cold            1255\n",
              "Very Hot        1170\n",
              "Extreme heat       1\n",
              "Name: count, dtype: int64"
            ]
          },
          "metadata": {},
          "execution_count": 116
        }
      ]
    },
    {
      "cell_type": "code",
      "source": [
        "plt.title(\"Temperature Categories\")\n",
        "plt.pie(df.groupby('temp_category')['count'].count(),labels=[\"warm\", \"hot\", \"cool\", \"cold\", \"Very Hot\",\"Extreme heat\"])\n",
        "plt.show()"
      ],
      "metadata": {
        "colab": {
          "base_uri": "https://localhost:8080/",
          "height": 264
        },
        "id": "BSZ9OEeseKJ8",
        "outputId": "be471867-fae3-4463-8e93-03b4940bb97c"
      },
      "execution_count": null,
      "outputs": [
        {
          "output_type": "display_data",
          "data": {
            "text/plain": [
              "<Figure size 432x288 with 1 Axes>"
            ],
            "image/png": "[encoded data removed]"
          },
          "metadata": {}
        }
      ]
    },
    {
      "cell_type": "code",
      "source": [
        "bins = [0,30,60,100]\n",
        "groups = [\"too dry\",\"optimal\",\"too humid\"]\n",
        "df['humidity_category'] = pd.cut(df['humidity'],bins,labels=groups)"
      ],
      "metadata": {
        "id": "w6OfVIA-nabp"
      },
      "execution_count": null,
      "outputs": []
    },
    {
      "cell_type": "code",
      "source": [
        "df.groupby('humidity_category')['count'].count()"
      ],
      "metadata": {
        "colab": {
          "base_uri": "https://localhost:8080/"
        },
        "id": "rZKQwfelq4EH",
        "outputId": "be047a36-6350-4f88-ed16-2b9874d0da88"
      },
      "execution_count": null,
      "outputs": [
        {
          "output_type": "execute_result",
          "data": {
            "text/plain": [
              "humidity_category\n",
              "too dry       470\n",
              "optimal      4710\n",
              "too humid    5684\n",
              "Name: count, dtype: int64"
            ]
          },
          "metadata": {},
          "execution_count": 168
        }
      ]
    },
    {
      "cell_type": "code",
      "source": [
        "plt.title(\"Humidity Categories\")\n",
        "plt.pie(df.groupby('humidity_category')['count'].count(),labels=[\"too dry\",\"optimal\",\"too humid\"])\n",
        "plt.show()"
      ],
      "metadata": {
        "colab": {
          "base_uri": "https://localhost:8080/",
          "height": 264
        },
        "id": "d79Dw_hMiofX",
        "outputId": "aba2e8cc-ba05-4977-95ae-cdfbd66905da"
      },
      "execution_count": null,
      "outputs": [
        {
          "output_type": "display_data",
          "data": {
            "text/plain": [
              "<Figure size 432x288 with 1 Axes>"
            ],
            "image/png": "[encoded data removed]"
          },
          "metadata": {}
        }
      ]
    },
    {
      "cell_type": "code",
      "source": [
        "lst =[]\n",
        "for i in range(len(df['datetime'])):\n",
        "    if df['datetime'][i].time().hour >=6 and df['datetime'][i].time().hour <= 18:\n",
        "        lst.append('day')\n",
        "    else:\n",
        "        lst.append('night')\n",
        "df['day_or_night'] = pd.Series(lst)"
      ],
      "metadata": {
        "id": "y8H2lrH21SEm"
      },
      "execution_count": null,
      "outputs": []
    },
    {
      "cell_type": "code",
      "source": [
        "df['day_or_night'].value_counts()"
      ],
      "metadata": {
        "colab": {
          "base_uri": "https://localhost:8080/"
        },
        "id": "Jj3xLvXct-4h",
        "outputId": "f0ae91e1-56d4-48ad-9704-51e8b503d390"
      },
      "execution_count": null,
      "outputs": [
        {
          "output_type": "execute_result",
          "data": {
            "text/plain": [
              "day      5922\n",
              "night    4964\n",
              "Name: day_or_night, dtype: int64"
            ]
          },
          "metadata": {},
          "execution_count": 160
        }
      ]
    },
    {
      "cell_type": "code",
      "source": [
        "plt.pie(df.groupby('day_or_night')['count'].sum(),labels=['day','night'])\n",
        "plt.show()"
      ],
      "metadata": {
        "colab": {
          "base_uri": "https://localhost:8080/",
          "height": 248
        },
        "id": "aAPgVAe0FU2v",
        "outputId": "1f50508d-2878-41b8-cdcc-b12fc472da5a"
      },
      "execution_count": null,
      "outputs": [
        {
          "output_type": "display_data",
          "data": {
            "text/plain": [
              "<Figure size 432x288 with 1 Axes>"
            ],
            "image/png": "[encoded data removed]"
          },
          "metadata": {}
        }
      ]
    },
    {
      "cell_type": "markdown",
      "source": [
        "# **Business Observations**"
      ],
      "metadata": {
        "id": "v_ifnJVw1TDN"
      }
    },
    {
      "cell_type": "markdown",
      "source": [
        "*  Working Day **does not have an effect** on number of electric cycles rented.\n",
        "\n",
        "*  Number of cycles rented are **different in different seasons.**\n",
        "\n",
        "*  Number of cycles rented are **different in different weather.**\n",
        "\n",
        "*  Weather is **independent** of season. \n",
        "\n",
        "*  It is observed that there was more use of the bicycles in seasons 2,3 and 4 than in season 1.\n",
        "\n",
        "*  Weather conditions 1 and 2 contribute to 80% of usage.\n",
        "\n",
        "*  80% of the time the electric bicycles were used during light and moderate winds i.e; upto windspeeds of 20-30km/h.\n",
        "\n",
        "*  Bicycles are least used in hot conditions, i.e;\n",
        "40 \\*C to 50 \\*C .\n",
        "\n",
        "*  The bikes are most used between 6am to 6pm.\n",
        "\n",
        "* The bicycles are least used in too dry conditions.\n"
      ],
      "metadata": {
        "id": "7aoIYFqF98dR"
      }
    },
    {
      "cell_type": "markdown",
      "source": [
        "# **Recommendations**"
      ],
      "metadata": {
        "id": "YoAonncz1XXj"
      }
    },
    {
      "cell_type": "markdown",
      "source": [
        "* More bicycles should be available in seasons 2,3 and 4.\n",
        "\n",
        "* Bicycles are to be placed in areas with temperatures less than 40 *C.\n",
        "\n",
        "* Availability of bicycles in weather conditions 1 and 2 is ideal.\n",
        "\n",
        "* Bicycle usage is more between 6am to 6pm, hence keeping them available during this time is crucial.\n",
        "\n",
        "* Avoid placing the bicycles in too dry regions as they are used the least under too dry humid conditions.\n",
        "\n",
        "* The bicycles are to be equally available during weekdays and weekends."
      ],
      "metadata": {
        "id": "TU5uMfLeEuQS"
      }
    }
  ]
}